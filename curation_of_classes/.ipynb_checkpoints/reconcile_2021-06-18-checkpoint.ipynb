{
 "cells": [
  {
   "cell_type": "code",
   "execution_count": 154,
   "metadata": {},
   "outputs": [
    {
     "name": "stdout",
     "output_type": "stream",
     "text": [
      "--2021-07-07 13:55:10--  https://docs.google.com/spreadsheets/d/e/2PACX-1vTanLtzxD6OXpu3Ze4aNITlIMZEqfK3qrrcNiwFE6kA-YVnuzULp3dG3oYIe5gYAVj28QWZnGwzN_H6/pub?output=xlsx\n",
      "Resolving docs.google.com (docs.google.com)... 142.250.79.46, 2800:3f0:4004:809::200e\n",
      "Connecting to docs.google.com (docs.google.com)|142.250.79.46|:443... connected.\n",
      "HTTP request sent, awaiting response... 307 Temporary Redirect\n",
      "Location: https://doc-08-2g-sheets.googleusercontent.com/pub/70cmver1f290kjsnpar5ku2h9g/cin859es16gi1ite0db4pg31dk/1625676910000/111470779373223342477/*/e@2PACX-1vTanLtzxD6OXpu3Ze4aNITlIMZEqfK3qrrcNiwFE6kA-YVnuzULp3dG3oYIe5gYAVj28QWZnGwzN_H6?output=xlsx [following]\n",
      "Warning: wildcards not supported in HTTP.\n",
      "--2021-07-07 13:55:11--  https://doc-08-2g-sheets.googleusercontent.com/pub/70cmver1f290kjsnpar5ku2h9g/cin859es16gi1ite0db4pg31dk/1625676910000/111470779373223342477/*/e@2PACX-1vTanLtzxD6OXpu3Ze4aNITlIMZEqfK3qrrcNiwFE6kA-YVnuzULp3dG3oYIe5gYAVj28QWZnGwzN_H6?output=xlsx\n",
      "Resolving doc-08-2g-sheets.googleusercontent.com (doc-08-2g-sheets.googleusercontent.com)... 142.250.78.225, 2800:3f0:4004:80f::2001\n",
      "Connecting to doc-08-2g-sheets.googleusercontent.com (doc-08-2g-sheets.googleusercontent.com)|142.250.78.225|:443... connected.\n",
      "HTTP request sent, awaiting response... 200 OK\n",
      "Length: unspecified [application/vnd.openxmlformats-officedocument.spreadsheetml.sheet]\n",
      "Saving to: ‘cell_classes.xlsx’\n",
      "\n",
      "cell_classes.xlsx       [ <=>                ]  61.83K  --.-KB/s    in 0.1s    \n",
      "\n",
      "2021-07-07 13:55:12 (417 KB/s) - ‘cell_classes.xlsx’ saved [63312]\n",
      "\n"
     ]
    }
   ],
   "source": [
    "! wget -O cell_classes.xlsx https://docs.google.com/spreadsheets/d/e/2PACX-1vTanLtzxD6OXpu3Ze4aNITlIMZEqfK3qrrcNiwFE6kA-YVnuzULp3dG3oYIe5gYAVj28QWZnGwzN_H6/pub\\?output\\=xlsx "
   ]
  },
  {
   "cell_type": "code",
   "execution_count": 155,
   "metadata": {},
   "outputs": [],
   "source": [
    "import pandas as pd\n",
    "cells = pd.read_excel(\"cell_classes.xlsx\", sheet_name=\"cell classes\")"
   ]
  },
  {
   "cell_type": "code",
   "execution_count": 156,
   "metadata": {},
   "outputs": [
    {
     "data": {
      "text/html": [
       "<div>\n",
       "<style scoped>\n",
       "    .dataframe tbody tr th:only-of-type {\n",
       "        vertical-align: middle;\n",
       "    }\n",
       "\n",
       "    .dataframe tbody tr th {\n",
       "        vertical-align: top;\n",
       "    }\n",
       "\n",
       "    .dataframe thead th {\n",
       "        text-align: right;\n",
       "    }\n",
       "</style>\n",
       "<table border=\"1\" class=\"dataframe\">\n",
       "  <thead>\n",
       "    <tr style=\"text-align: right;\">\n",
       "      <th></th>\n",
       "      <th>label</th>\n",
       "      <th>subclass of</th>\n",
       "      <th>stated in</th>\n",
       "      <th>described by source</th>\n",
       "      <th>aliases</th>\n",
       "      <th>anatomical location</th>\n",
       "      <th>develops from</th>\n",
       "      <th>instance of</th>\n",
       "    </tr>\n",
       "  </thead>\n",
       "  <tbody>\n",
       "    <tr>\n",
       "      <th>0</th>\n",
       "      <td>human FOXN4+ ciliated cell</td>\n",
       "      <td>Q101405066</td>\n",
       "      <td>Q91561671</td>\n",
       "      <td>NaN</td>\n",
       "      <td>FOXN4‐positive cell</td>\n",
       "      <td>airways</td>\n",
       "      <td>NaN</td>\n",
       "      <td>NaN</td>\n",
       "    </tr>\n",
       "    <tr>\n",
       "      <th>1</th>\n",
       "      <td>human bronchial epithelial cell</td>\n",
       "      <td>Q90612750</td>\n",
       "      <td>Q91561671</td>\n",
       "      <td>NaN</td>\n",
       "      <td>HBEC</td>\n",
       "      <td>bronchius</td>\n",
       "      <td>NaN</td>\n",
       "      <td>NaN</td>\n",
       "    </tr>\n",
       "    <tr>\n",
       "      <th>2</th>\n",
       "      <td>human transient secretory cell</td>\n",
       "      <td>Q104525725</td>\n",
       "      <td>Q91561671</td>\n",
       "      <td>NaN</td>\n",
       "      <td>NaN</td>\n",
       "      <td>NaN</td>\n",
       "      <td>NaN</td>\n",
       "      <td>NaN</td>\n",
       "    </tr>\n",
       "    <tr>\n",
       "      <th>3</th>\n",
       "      <td>macrovascular endothelial cell</td>\n",
       "      <td>Q11394395</td>\n",
       "      <td>Q91776824</td>\n",
       "      <td>NaN</td>\n",
       "      <td>MaVECs</td>\n",
       "      <td>liver</td>\n",
       "      <td>NaN</td>\n",
       "      <td>NaN</td>\n",
       "    </tr>\n",
       "    <tr>\n",
       "      <th>4</th>\n",
       "      <td>human macrovascular endothelial cell</td>\n",
       "      <td>macrovascular endothelial cell</td>\n",
       "      <td>Q91776824</td>\n",
       "      <td>NaN</td>\n",
       "      <td>NaN</td>\n",
       "      <td>liver</td>\n",
       "      <td>NaN</td>\n",
       "      <td>NaN</td>\n",
       "    </tr>\n",
       "  </tbody>\n",
       "</table>\n",
       "</div>"
      ],
      "text/plain": [
       "                                  label                     subclass of  \\\n",
       "0            human FOXN4+ ciliated cell                      Q101405066   \n",
       "1       human bronchial epithelial cell                       Q90612750   \n",
       "2        human transient secretory cell                      Q104525725   \n",
       "3        macrovascular endothelial cell                       Q11394395   \n",
       "4  human macrovascular endothelial cell  macrovascular endothelial cell   \n",
       "\n",
       "   stated in described by source              aliases anatomical location  \\\n",
       "0  Q91561671                 NaN  FOXN4‐positive cell             airways   \n",
       "1  Q91561671                 NaN                 HBEC           bronchius   \n",
       "2  Q91561671                 NaN                  NaN                 NaN   \n",
       "3  Q91776824                 NaN               MaVECs               liver   \n",
       "4  Q91776824                 NaN                  NaN               liver   \n",
       "\n",
       "  develops from instance of  \n",
       "0           NaN         NaN  \n",
       "1           NaN         NaN  \n",
       "2           NaN         NaN  \n",
       "3           NaN         NaN  \n",
       "4           NaN         NaN  "
      ]
     },
     "execution_count": 156,
     "metadata": {},
     "output_type": "execute_result"
    }
   ],
   "source": [
    "cells.head()"
   ]
  },
  {
   "cell_type": "code",
   "execution_count": 157,
   "metadata": {},
   "outputs": [],
   "source": [
    "%run dicts.py"
   ]
  },
  {
   "cell_type": "code",
   "execution_count": 158,
   "metadata": {},
   "outputs": [
    {
     "name": "stdout",
     "output_type": "stream",
     "text": [
      "{'progenitor cell': 'Q1896218', 'thymocyte': 'Q7799635', 'mouse early thymic progenitor cell': 'Q106303241', 'mouse double-negative (DN) cell': 'Q106303242', 'mouse  DN1 cells (CD44+CD252)': 'Q106303259', 'mouse DN2 cells (CD44+CD25+)': 'Q106303260', 'club cell': 'Q645712', 'fibroblast': 'Q463418', 'glycinergic neuron': 'Q101062691', 'excitatory neuron': 'Q104519429', 'cell': 'Q7868', 'cytotrophoblasts': 'Q105321205', 'endothelial cell': 'Q11394395', 'macrophage': 'Q184204', 'fetal liver island macrophage': 'Q106410670', 'erythroblast': 'Q3296909', 'Human fetal liver island macrophage': 'Q106410701', 'pigment cell': 'Q504699', 'neural crest cell': 'Q66592575', 'epithelial cell': 'Q15176415', 'coronary artery SMC': 'Q107297649', 'human coronary artery SMC': 'Q107297653', 'fibromyocyte': 'Q107297654', 'dendritic cell': 'Q506253', 'human dendritic cell': 'Q101404869', 'human CD1C+ cDC': 'Q107297680', 'human CD11C+ conventional dendrintic cells': 'Q107297679', 'human CD1C+ A cDC': 'Q107297692', 'human CD1C+ B cDC': 'Q107297693', 'human CD141+ DC': 'Q107297694', 'human plasmacytoid dendritic cells': 'Q107297710', 'human CLEC9A+ cDC': 'Q107297697', 'human CD1C- CD141- cDC': 'Q107297698', 'human  CD14++CD16– monocytes': 'Q107297700', 'human CD14+CD16+ monocytes': 'Q107297701', 'hepatic portal vein endothelial cells': 'Q106293750', 'human hepatic portal vein endothelial cell': 'Q107297715', 'periportal hepatocyte': 'Q106293770', 'human periportal hepatocyte': 'Q107297727', 'central venous hepatocytes': 'Q106293780', ' interzonal hepatocyte': 'Q106293792', 'hepatic stem cell': 'Q66592487', 'hepatic B cell': 'Q106293830', 'human hepatic B cell': 'Q107297787', 'immune cell': 'Q104524156', 'murine dermal migratory Langerhans-like cell': 'Q107301411', 'mouse dermal migratory Langerhans-like cell': 'Q107301412', 'Langerhans cell': 'Q1623344', 'cerebellar granule cell precursor': 'Q106355102', 'Purkinje cell': 'Q1570272', 'thymic epithelial cell': 'Q56479046', 'T-cell': 'Q193529', 'double-negative T cell': 'Q107306965', 'double-positive T cell': 'Q107306967', 'human double-negative T cell': 'Q107306968', 'human double-positive T cell': 'Q107306969', 'CD8αα+ T Cell': 'Q104450687', 'human CD8αα+ T Cell': 'Q107446069', 'thymic fibroblast': 'Q104450690', 'human thymic fibroblast': 'Q107446079', 'human type 1 thymic fibroblast': 'Q107446080', 'human type 2 thymic fibroblast': 'Q107446081', 'medullary thymic epithelial cell': 'Q106355225', 'human medullary thymic epithelial cell ': 'Q107446097', 'cortical thymic epithelial cell': 'Q56292132', 'human cortical thymic epithelial cell': 'Q107446140', 'PSMB11-positive cTECs': 'Q107446141', 'KRT14-positive mTEC': 'Q107446142', 'AIRE-expressing mTEC': 'Q107446144', 'KRT1-expressing mTEC': 'Q107446145', 'human PSMB11-positive cTEC': 'Q107446146', 'human KRT14-positive mTEC': 'Q107446148', 'human AIRE-expressing mTEC': 'Q107446149', 'human KRT1-expressing mTEC': 'Q107446150', 'mouse tuft-like mTEC': 'Q107446151', 'human mTEC(IV)s': 'Q107446152', 'T cell': 'Q193529', 'Intercalated cell of collecting duct of renal tubule': 'Q66592471', 'cytotoxic CD4+ T lymphocytes': 'Q107446247', 'human cytotoxic CD4+ T lymphocytes': 'Q107446249', ' human differentiating Tregs': 'Q107446251', 'human GNG4+ CD8αα+ T(I) cells': 'Q107446253', 'human ZNF683+ CD8αα+ T(II) cells': 'Q107446256', 'human CD8αα+ NKT-like cell': 'Q107446257', 'distal convoluted tubule cell': 'Q107446223', 'alpha intercalated cell of the collecting duct': 'Q107446372', 'beta intercalated cell of the collecting duct': 'Q107446373', 'mouse alpha intercalated cell of the collecting duct': 'Q107446375', 'cell of the collecting duct': 'Q106369427', 'epidermal cell': 'Q66558711', 'keratinized cell of epidermis': 'Q66559299', 'hair follicle cell': 'Q106307499', 'mouse hair follicle inner bulge cell': 'Q107446489', 'mouse hair follicle outer bulge cell': 'Q107446491', 'mouse hair follicle sebaceous gland cell': 'Q107446492', 'mouse upper hair follicle cell': 'Q107446493', 'enteroendocrine cell': 'Q5380231', 'mouse SILA enteroendocrine cell': 'Q107446512', 'mouse tuft cell': 'Q104416147', 'mouse tuft-1 cell': 'Q107446528', 'mouse tuft-2 cell': 'Q107446529', 'dentate gyrus radial glia-like cells': 'Q107446530', 'subventricular zone radial glia-like cells': 'Q107446531', 'mouse dentate gyrus radial glia-like cells': 'Q107446532', 'mouse subventricular zone radial glia-like cells': 'Q107446533', 'peritoneal macrophage': 'Q66589797', 'mouse large peritoneal macrophage': 'Q107446685', 'mouse small peritoneal macrophage': 'Q107446686', 'human decidual NK cell': 'Q107446687', 'human dNK1': 'Q107446689', 'human dNK2': 'Q107446690', 'human dNK3': 'Q107446691'}\n"
     ]
    }
   ],
   "source": [
    "import re\n",
    "import pickle\n",
    "\n",
    "with open('celltypes_dict.pickle', 'rb') as handle:\n",
    "    subclass_dict = pickle.load(handle)\n",
    "    \n",
    "print(subclass_dict)\n",
    "\n",
    "subclass_dict[\"B cell\"] =  'Q188930'"
   ]
  },
  {
   "cell_type": "code",
   "execution_count": 6,
   "metadata": {},
   "outputs": [
    {
     "name": "stdin",
     "output_type": "stream",
     "text": [
      " ············\n"
     ]
    }
   ],
   "source": [
    "from wikidataintegrator import wdi_login\n",
    "import getpass\n",
    "\n",
    "pwd = getpass.getpass()\n",
    "login_instance = wdi_login.WDLogin(user='TiagoLubiana', pwd=pwd)"
   ]
  },
  {
   "cell_type": "code",
   "execution_count": 159,
   "metadata": {},
   "outputs": [
    {
     "name": "stdout",
     "output_type": "stream",
     "text": [
      "Running code for human FOXN4+ ciliated cell \n",
      "Q189118\n",
      "Running code for human bronchial epithelial cell \n",
      "Q189118\n",
      "Running code for human transient secretory cell \n",
      "Q189118\n",
      "Running code for macrovascular endothelial cell \n",
      "Q189118\n",
      "Running code for human macrovascular endothelial cell \n",
      "Q189118\n",
      "Running code for human liver-resident MZB1+ B cell \n",
      "\n",
      "failed: \n",
      "label                  human liver-resident MZB1+ B cell\n",
      "subclass of                                       B cell\n",
      "stated in                                      Q91776824\n",
      "described by source                                  NaN\n",
      "aliases                                              NaN\n",
      "anatomical location                                liver\n",
      "develops from                                        NaN\n",
      "instance of                                          NaN\n",
      "Name: 5, dtype: object\n"
     ]
    }
   ],
   "source": [
    "from wikidataintegrator import wdi_core\n",
    "import time\n",
    "\n",
    "for index, row in cells.iterrows():\n",
    "\n",
    "    data_for_item = []     \n",
    "    stated_in_full_reference = wdi_core.WDItemID(value=row[\"stated in\"], prop_nr=\"P248\", is_reference=True)\n",
    "    references = [[stated_in_full_reference]]\n",
    "    \n",
    "\n",
    "    label = row[\"label\"]\n",
    "    print(f\"Running code for {label} \")\n",
    "\n",
    "    if \"human\" in label:\n",
    "      description = \"cell type in Homo sapiens\"\n",
    "      taxon = \"Q15978631\"\n",
    "        \n",
    "      data_for_item.append( \n",
    "        wdi_core.WDItemID(value=taxon,\n",
    "                        prop_nr=\"P703\",\n",
    "                         references=references)\n",
    "    )  \n",
    "      \n",
    "    elif \"mouse\" in label:\n",
    "      description = \"cell type in Mus musculus\"\n",
    "      data_for_item.append( \n",
    "        wdi_core.WDItemID(value=taxon,\n",
    "                        prop_nr=\"P703\",\n",
    "                         references=references)\n",
    "    )  \n",
    "\n",
    "    elif \"zebrafish\" in label:\n",
    "      description = \"cell type in Danio rerio\"\n",
    "      taxon = \"Q169444\"\n",
    "      data_for_item.append( \n",
    "        wdi_core.WDItemID(value=taxon,\n",
    "                        prop_nr=\"P703\",\n",
    "                         references=references)\n",
    "    )  \n",
    "    else:\n",
    "      description = \"cell type\"\n",
    "\n",
    "    try:\n",
    "        if  re.findall(\"Q[0-9]*\", row[\"subclass of\"]):\n",
    "            subclass = row[\"subclass of\"]\n",
    "        else:\n",
    "            subclass = subclass_dict[row[\"subclass of\"]]            \n",
    "        \n",
    "        data_for_item.append( \n",
    "        wdi_core.WDItemID(value=subclass,\n",
    "                        prop_nr=\"P279\")\n",
    "    )  \n",
    "\n",
    "        if str(row[\"anatomical location\"]) != \"nan\":\n",
    "            if  re.findall(\"Q[0-9]*\", row[\"anatomical location\"]):\n",
    "                part_of = row[\"anatomical location\"]\n",
    "            else:\n",
    "                part_of = part_of_dict[row[\"anatomical location\"]]\n",
    "\n",
    "            data_for_item.append( \n",
    "            wdi_core.WDItemID(value=part_of,\n",
    "                            prop_nr=\"P927\",\n",
    "                             references=references)\n",
    "        )          \n",
    "\n",
    "        if str(row[\"described by source\"]) != \"nan\":\n",
    "            data_for_item.append( \n",
    "            wdi_core.WDItemID(value=row[\"described by source\"],\n",
    "                            prop_nr=\"P1343\")\n",
    "                        )\n",
    "        \n",
    "       \n",
    "    except:\n",
    "        print(\"\")\n",
    "        print(\"failed: \")\n",
    "        print(row)\n",
    "        break\n",
    "    \n",
    "    if str(row[\"aliases\"]) != \"nan\":\n",
    "        aliases = row[\"aliases\"].split(\"|\")\n",
    "    else:\n",
    "        aliases = []\n",
    "\n",
    "    if str(row[\"instance of\"]) != \"nan\":\n",
    "      instance = instance_dict[row[\"instance of\"]]\n",
    "    else: \n",
    "      instance = instance_dict[\"cell type\"]\n",
    "    print(instance)\n",
    "    data_for_item.append( \n",
    "    wdi_core.WDItemID(value=instance,\n",
    "                    prop_nr=\"P31\",\n",
    "                    references=references)\n",
    "    )\n",
    "    wd_item = wdi_core.WDItemEngine(data=data_for_item)\n",
    "    wd_item.set_label(label=label, lang=\"en\")\n",
    "    wd_item.set_aliases(aliases, lang=\"en\")\n",
    "    wd_item.set_description(description, lang=\"en\")\n",
    "    try:\n",
    "        wd_item.write(login_instance)\n",
    "        subclass_dict[label] = wd_item.wd_item_id\n",
    "    except:\n",
    "        print(\"Something went wrong\")\n",
    "    \n",
    "    time.sleep(1)\n",
    "\n",
    "        \n",
    "\n",
    "    "
   ]
  },
  {
   "cell_type": "code",
   "execution_count": 161,
   "metadata": {},
   "outputs": [
    {
     "ename": "SyntaxError",
     "evalue": "invalid syntax (<ipython-input-161-d0015768fd33>, line 3)",
     "output_type": "error",
     "traceback": [
      "\u001b[0;36m  File \u001b[0;32m\"<ipython-input-161-d0015768fd33>\"\u001b[0;36m, line \u001b[0;32m3\u001b[0m\n\u001b[0;31m    OCOL)\u001b[0m\n\u001b[0m       ^\u001b[0m\n\u001b[0;31mSyntaxError\u001b[0m\u001b[0;31m:\u001b[0m invalid syntax\n"
     ]
    }
   ],
   "source": [
    "with open('celltypes_dict.pickle', 'wb') as handle:\n",
    "    pickle.dump(subclass_dict, handle, protocol=pickle.HIGHEST_PRO\n",
    "                OCOL)\n"
   ]
  },
  {
   "cell_type": "code",
   "execution_count": null,
   "metadata": {},
   "outputs": [],
   "source": []
  }
 ],
 "metadata": {
  "kernelspec": {
   "display_name": "Python 3",
   "language": "python",
   "name": "python3"
  },
  "language_info": {
   "codemirror_mode": {
    "name": "ipython",
    "version": 3
   },
   "file_extension": ".py",
   "mimetype": "text/x-python",
   "name": "python",
   "nbconvert_exporter": "python",
   "pygments_lexer": "ipython3",
   "version": "3.6.9"
  }
 },
 "nbformat": 4,
 "nbformat_minor": 4
}
