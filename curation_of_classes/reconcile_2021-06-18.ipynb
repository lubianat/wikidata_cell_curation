{
 "cells": [
  {
   "cell_type": "code",
   "execution_count": 9,
   "metadata": {},
   "outputs": [
    {
     "name": "stdout",
     "output_type": "stream",
     "text": [
      "--2021-07-08 08:12:54--  https://docs.google.com/spreadsheets/d/e/2PACX-1vTanLtzxD6OXpu3Ze4aNITlIMZEqfK3qrrcNiwFE6kA-YVnuzULp3dG3oYIe5gYAVj28QWZnGwzN_H6/pub?output=xlsx\n",
      "Resolving docs.google.com (docs.google.com)... 142.250.79.46, 2800:3f0:4004:80f::200e\n",
      "Connecting to docs.google.com (docs.google.com)|142.250.79.46|:443... connected.\n",
      "HTTP request sent, awaiting response... 307 Temporary Redirect\n",
      "Location: https://doc-08-2g-sheets.googleusercontent.com/pub/70cmver1f290kjsnpar5ku2h9g/iunem9rg6knvqakl3jvdd963og/1625742770000/111470779373223342477/*/e@2PACX-1vTanLtzxD6OXpu3Ze4aNITlIMZEqfK3qrrcNiwFE6kA-YVnuzULp3dG3oYIe5gYAVj28QWZnGwzN_H6?output=xlsx [following]\n",
      "Warning: wildcards not supported in HTTP.\n",
      "--2021-07-08 08:12:54--  https://doc-08-2g-sheets.googleusercontent.com/pub/70cmver1f290kjsnpar5ku2h9g/iunem9rg6knvqakl3jvdd963og/1625742770000/111470779373223342477/*/e@2PACX-1vTanLtzxD6OXpu3Ze4aNITlIMZEqfK3qrrcNiwFE6kA-YVnuzULp3dG3oYIe5gYAVj28QWZnGwzN_H6?output=xlsx\n",
      "Resolving doc-08-2g-sheets.googleusercontent.com (doc-08-2g-sheets.googleusercontent.com)... 142.250.78.225, 2800:3f0:4004:80f::2001\n",
      "Connecting to doc-08-2g-sheets.googleusercontent.com (doc-08-2g-sheets.googleusercontent.com)|142.250.78.225|:443... connected.\n",
      "HTTP request sent, awaiting response... 200 OK\n",
      "Length: unspecified [application/vnd.openxmlformats-officedocument.spreadsheetml.sheet]\n",
      "Saving to: ‘cell_classes.xlsx’\n",
      "\n",
      "cell_classes.xlsx       [ <=>                ]  60.41K  --.-KB/s    in 0.05s   \n",
      "\n",
      "2021-07-08 08:12:55 (1.26 MB/s) - ‘cell_classes.xlsx’ saved [61863]\n",
      "\n"
     ]
    }
   ],
   "source": [
    "! wget -O cell_classes.xlsx https://docs.google.com/spreadsheets/d/e/2PACX-1vTanLtzxD6OXpu3Ze4aNITlIMZEqfK3qrrcNiwFE6kA-YVnuzULp3dG3oYIe5gYAVj28QWZnGwzN_H6/pub\\?output\\=xlsx "
   ]
  },
  {
   "cell_type": "code",
   "execution_count": 10,
   "metadata": {},
   "outputs": [],
   "source": [
    "import pandas as pd\n",
    "cells = pd.read_excel(\"cell_classes.xlsx\", sheet_name=\"cell classes\")"
   ]
  },
  {
   "cell_type": "code",
   "execution_count": 11,
   "metadata": {},
   "outputs": [
    {
     "data": {
      "text/html": [
       "<div>\n",
       "<style scoped>\n",
       "    .dataframe tbody tr th:only-of-type {\n",
       "        vertical-align: middle;\n",
       "    }\n",
       "\n",
       "    .dataframe tbody tr th {\n",
       "        vertical-align: top;\n",
       "    }\n",
       "\n",
       "    .dataframe thead th {\n",
       "        text-align: right;\n",
       "    }\n",
       "</style>\n",
       "<table border=\"1\" class=\"dataframe\">\n",
       "  <thead>\n",
       "    <tr style=\"text-align: right;\">\n",
       "      <th></th>\n",
       "      <th>label</th>\n",
       "      <th>subclass of</th>\n",
       "      <th>stated in</th>\n",
       "      <th>described by source</th>\n",
       "      <th>aliases</th>\n",
       "      <th>anatomical location</th>\n",
       "      <th>develops from</th>\n",
       "      <th>instance of</th>\n",
       "    </tr>\n",
       "  </thead>\n",
       "  <tbody>\n",
       "    <tr>\n",
       "      <th>0</th>\n",
       "      <td>human OPN1SW-positive S-cones</td>\n",
       "      <td>Q147298</td>\n",
       "      <td>\\nQ92766837</td>\n",
       "      <td>NaN</td>\n",
       "      <td>S-cones</td>\n",
       "      <td>NaN</td>\n",
       "      <td>NaN</td>\n",
       "      <td>NaN</td>\n",
       "    </tr>\n",
       "    <tr>\n",
       "      <th>1</th>\n",
       "      <td>human L/M cones</td>\n",
       "      <td>Q147298</td>\n",
       "      <td>\\nQ92766837</td>\n",
       "      <td>NaN</td>\n",
       "      <td>NaN</td>\n",
       "      <td>NaN</td>\n",
       "      <td>NaN</td>\n",
       "      <td>NaN</td>\n",
       "    </tr>\n",
       "    <tr>\n",
       "      <th>2</th>\n",
       "      <td>human OPN1MW-positive M-cones</td>\n",
       "      <td>human L/M cones</td>\n",
       "      <td>Q92766837</td>\n",
       "      <td>NaN</td>\n",
       "      <td>NaN</td>\n",
       "      <td>NaN</td>\n",
       "      <td>NaN</td>\n",
       "      <td>NaN</td>\n",
       "    </tr>\n",
       "    <tr>\n",
       "      <th>3</th>\n",
       "      <td>human OPN1LW-positive L-cones</td>\n",
       "      <td>human L/M cones</td>\n",
       "      <td>Q92766837</td>\n",
       "      <td>NaN</td>\n",
       "      <td>NaN</td>\n",
       "      <td>NaN</td>\n",
       "      <td>NaN</td>\n",
       "      <td>NaN</td>\n",
       "    </tr>\n",
       "    <tr>\n",
       "      <th>4</th>\n",
       "      <td>IgG B cell</td>\n",
       "      <td>Q188930</td>\n",
       "      <td>Q92826478</td>\n",
       "      <td>NaN</td>\n",
       "      <td>NaN</td>\n",
       "      <td>NaN</td>\n",
       "      <td>NaN</td>\n",
       "      <td>NaN</td>\n",
       "    </tr>\n",
       "  </tbody>\n",
       "</table>\n",
       "</div>"
      ],
      "text/plain": [
       "                           label      subclass of    stated in  \\\n",
       "0  human OPN1SW-positive S-cones          Q147298  \\nQ92766837   \n",
       "1                human L/M cones          Q147298  \\nQ92766837   \n",
       "2  human OPN1MW-positive M-cones  human L/M cones    Q92766837   \n",
       "3  human OPN1LW-positive L-cones  human L/M cones    Q92766837   \n",
       "4                     IgG B cell          Q188930    Q92826478   \n",
       "\n",
       "  described by source  aliases anatomical location develops from instance of  \n",
       "0                 NaN  S-cones                 NaN           NaN         NaN  \n",
       "1                 NaN      NaN                 NaN           NaN         NaN  \n",
       "2                 NaN      NaN                 NaN           NaN         NaN  \n",
       "3                 NaN      NaN                 NaN           NaN         NaN  \n",
       "4                 NaN      NaN                 NaN           NaN         NaN  "
      ]
     },
     "execution_count": 11,
     "metadata": {},
     "output_type": "execute_result"
    }
   ],
   "source": [
    "cells.head()"
   ]
  },
  {
   "cell_type": "code",
   "execution_count": 4,
   "metadata": {},
   "outputs": [],
   "source": [
    "%run dicts.py"
   ]
  },
  {
   "cell_type": "code",
   "execution_count": 175,
   "metadata": {},
   "outputs": [
    {
     "name": "stdout",
     "output_type": "stream",
     "text": [
      "{'progenitor cell': 'Q1896218', 'thymocyte': 'Q7799635', 'mouse early thymic progenitor cell': 'Q106303241', 'mouse double-negative (DN) cell': 'Q106303242', 'mouse  DN1 cells (CD44+CD252)': 'Q106303259', 'mouse DN2 cells (CD44+CD25+)': 'Q106303260', 'club cell': 'Q645712', 'fibroblast': 'Q463418', 'glycinergic neuron': 'Q101062691', 'excitatory neuron': 'Q104519429', 'cell': 'Q7868', 'cytotrophoblasts': 'Q105321205', 'endothelial cell': 'Q11394395', 'macrophage': 'Q184204', 'fetal liver island macrophage': 'Q106410670', 'erythroblast': 'Q3296909', 'Human fetal liver island macrophage': 'Q106410701', 'pigment cell': 'Q504699', 'neural crest cell': 'Q66592575', 'epithelial cell': 'Q15176415', 'coronary artery SMC': 'Q107297649', 'human coronary artery SMC': 'Q107297653', 'fibromyocyte': 'Q107297654', 'dendritic cell': 'Q506253', 'human dendritic cell': 'Q101404869', 'human CD1C+ cDC': 'Q107297680', 'human CD11C+ conventional dendrintic cells': 'Q107297679', 'human CD1C+ A cDC': 'Q107297692', 'human CD1C+ B cDC': 'Q107297693', 'human CD141+ DC': 'Q107297694', 'human plasmacytoid dendritic cells': 'Q107297710', 'human CLEC9A+ cDC': 'Q107297697', 'human CD1C- CD141- cDC': 'Q107297698', 'human  CD14++CD16– monocytes': 'Q107297700', 'human CD14+CD16+ monocytes': 'Q107297701', 'hepatic portal vein endothelial cells': 'Q106293750', 'human hepatic portal vein endothelial cell': 'Q107297715', 'periportal hepatocyte': 'Q106293770', 'human periportal hepatocyte': 'Q107297727', 'central venous hepatocytes': 'Q106293780', ' interzonal hepatocyte': 'Q106293792', 'hepatic stem cell': 'Q66592487', 'hepatic B cell': 'Q106293830', 'human hepatic B cell': 'Q107297787', 'immune cell': 'Q104524156', 'murine dermal migratory Langerhans-like cell': 'Q107301411', 'mouse dermal migratory Langerhans-like cell': 'Q107301412', 'Langerhans cell': 'Q1623344', 'cerebellar granule cell precursor': 'Q106355102', 'Purkinje cell': 'Q1570272', 'thymic epithelial cell': 'Q56479046', 'T-cell': 'Q193529', 'double-negative T cell': 'Q107306965', 'double-positive T cell': 'Q107306967', 'human double-negative T cell': 'Q107306968', 'human double-positive T cell': 'Q107306969', 'CD8αα+ T Cell': 'Q104450687', 'human CD8αα+ T Cell': 'Q107446069', 'thymic fibroblast': 'Q104450690', 'human thymic fibroblast': 'Q107446079', 'human type 1 thymic fibroblast': 'Q107446080', 'human type 2 thymic fibroblast': 'Q107446081', 'medullary thymic epithelial cell': 'Q106355225', 'human medullary thymic epithelial cell ': 'Q107446097', 'cortical thymic epithelial cell': 'Q56292132', 'human cortical thymic epithelial cell': 'Q107446140', 'PSMB11-positive cTECs': 'Q107446141', 'KRT14-positive mTEC': 'Q107446142', 'AIRE-expressing mTEC': 'Q107446144', 'KRT1-expressing mTEC': 'Q107446145', 'human PSMB11-positive cTEC': 'Q107446146', 'human KRT14-positive mTEC': 'Q107446148', 'human AIRE-expressing mTEC': 'Q107446149', 'human KRT1-expressing mTEC': 'Q107446150', 'mouse tuft-like mTEC': 'Q107446151', 'human mTEC(IV)s': 'Q107446152', 'T cell': 'Q193529', 'Intercalated cell of collecting duct of renal tubule': 'Q66592471', 'cytotoxic CD4+ T lymphocytes': 'Q107446247', 'human cytotoxic CD4+ T lymphocytes': 'Q107446249', ' human differentiating Tregs': 'Q107446251', 'human GNG4+ CD8αα+ T(I) cells': 'Q107446253', 'human ZNF683+ CD8αα+ T(II) cells': 'Q107446256', 'human CD8αα+ NKT-like cell': 'Q107446257', 'distal convoluted tubule cell': 'Q107446223', 'alpha intercalated cell of the collecting duct': 'Q107446372', 'beta intercalated cell of the collecting duct': 'Q107446373', 'mouse alpha intercalated cell of the collecting duct': 'Q107446375', 'cell of the collecting duct': 'Q106369427', 'epidermal cell': 'Q66558711', 'keratinized cell of epidermis': 'Q66559299', 'hair follicle cell': 'Q106307499', 'mouse hair follicle inner bulge cell': 'Q107446489', 'mouse hair follicle outer bulge cell': 'Q107446491', 'mouse hair follicle sebaceous gland cell': 'Q107446492', 'mouse upper hair follicle cell': 'Q107446493', 'enteroendocrine cell': 'Q5380231', 'mouse SILA enteroendocrine cell': 'Q107446512', 'mouse tuft cell': 'Q104416147', 'mouse tuft-1 cell': 'Q107446528', 'mouse tuft-2 cell': 'Q107446529', 'dentate gyrus radial glia-like cells': 'Q107446530', 'subventricular zone radial glia-like cells': 'Q107446531', 'mouse dentate gyrus radial glia-like cells': 'Q107446532', 'mouse subventricular zone radial glia-like cells': 'Q107446533', 'peritoneal macrophage': 'Q66589797', 'mouse large peritoneal macrophage': 'Q107446685', 'mouse small peritoneal macrophage': 'Q107446686', 'human decidual NK cell': 'Q107446687', 'human dNK1': 'Q107446689', 'human dNK2': 'Q107446690', 'human dNK3': 'Q107446691'}\n"
     ]
    }
   ],
   "source": [
    "import re\n",
    "import pickle\n",
    "\n",
    "with open('celltypes_dict.pickle', 'rb') as handle:\n",
    "    subclass_dict = pickle.load(handle)\n",
    "    \n",
    "print(subclass_dict)\n",
    "\n",
    "subclass_dict[\"B cell\"] =  'Q188930'"
   ]
  },
  {
   "cell_type": "code",
   "execution_count": 5,
   "metadata": {},
   "outputs": [
    {
     "name": "stdin",
     "output_type": "stream",
     "text": [
      " ············\n"
     ]
    }
   ],
   "source": [
    "from wikidataintegrator import wdi_login\n",
    "import getpass\n",
    "\n",
    "pwd = getpass.getpass()\n",
    "login_instance = wdi_login.WDLogin(user='TiagoLubiana', pwd=pwd)"
   ]
  },
  {
   "cell_type": "code",
   "execution_count": 7,
   "metadata": {},
   "outputs": [
    {
     "ename": "ValueError",
     "evalue": "Invalid WD item ID, format must be \"Q[0-9]*\"",
     "output_type": "error",
     "traceback": [
      "\u001b[0;31m---------------------------------------------------------------------------\u001b[0m",
      "\u001b[0;31mValueError\u001b[0m                                Traceback (most recent call last)",
      "\u001b[0;32m<ipython-input-7-3f836b04326d>\u001b[0m in \u001b[0;36m<module>\u001b[0;34m\u001b[0m\n\u001b[1;32m      5\u001b[0m \u001b[0;34m\u001b[0m\u001b[0m\n\u001b[1;32m      6\u001b[0m     \u001b[0mdata_for_item\u001b[0m \u001b[0;34m=\u001b[0m \u001b[0;34m[\u001b[0m\u001b[0;34m]\u001b[0m\u001b[0;34m\u001b[0m\u001b[0;34m\u001b[0m\u001b[0m\n\u001b[0;32m----> 7\u001b[0;31m     \u001b[0mstated_in_full_reference\u001b[0m \u001b[0;34m=\u001b[0m \u001b[0mwdi_core\u001b[0m\u001b[0;34m.\u001b[0m\u001b[0mWDItemID\u001b[0m\u001b[0;34m(\u001b[0m\u001b[0mvalue\u001b[0m\u001b[0;34m=\u001b[0m\u001b[0mrow\u001b[0m\u001b[0;34m[\u001b[0m\u001b[0;34m\"stated in\"\u001b[0m\u001b[0;34m]\u001b[0m\u001b[0;34m,\u001b[0m \u001b[0mprop_nr\u001b[0m\u001b[0;34m=\u001b[0m\u001b[0;34m\"P248\"\u001b[0m\u001b[0;34m,\u001b[0m \u001b[0mis_reference\u001b[0m\u001b[0;34m=\u001b[0m\u001b[0;32mTrue\u001b[0m\u001b[0;34m)\u001b[0m\u001b[0;34m\u001b[0m\u001b[0;34m\u001b[0m\u001b[0m\n\u001b[0m\u001b[1;32m      8\u001b[0m     \u001b[0mreferences\u001b[0m \u001b[0;34m=\u001b[0m \u001b[0;34m[\u001b[0m\u001b[0;34m[\u001b[0m\u001b[0mstated_in_full_reference\u001b[0m\u001b[0;34m]\u001b[0m\u001b[0;34m]\u001b[0m\u001b[0;34m\u001b[0m\u001b[0;34m\u001b[0m\u001b[0m\n\u001b[1;32m      9\u001b[0m \u001b[0;34m\u001b[0m\u001b[0m\n",
      "\u001b[0;32m~/.local/lib/python3.6/site-packages/wikidataintegrator/wdi_core.py\u001b[0m in \u001b[0;36m__init__\u001b[0;34m(self, value, prop_nr, is_reference, is_qualifier, snak_type, references, qualifiers, rank, check_qualifier_equality)\u001b[0m\n\u001b[1;32m   2410\u001b[0m                                        check_qualifier_equality=check_qualifier_equality)\n\u001b[1;32m   2411\u001b[0m \u001b[0;34m\u001b[0m\u001b[0m\n\u001b[0;32m-> 2412\u001b[0;31m         \u001b[0mself\u001b[0m\u001b[0;34m.\u001b[0m\u001b[0mset_value\u001b[0m\u001b[0;34m(\u001b[0m\u001b[0mvalue\u001b[0m\u001b[0;34m=\u001b[0m\u001b[0mvalue\u001b[0m\u001b[0;34m)\u001b[0m\u001b[0;34m\u001b[0m\u001b[0;34m\u001b[0m\u001b[0m\n\u001b[0m\u001b[1;32m   2413\u001b[0m \u001b[0;34m\u001b[0m\u001b[0m\n\u001b[1;32m   2414\u001b[0m     \u001b[0;32mdef\u001b[0m \u001b[0mset_value\u001b[0m\u001b[0;34m(\u001b[0m\u001b[0mself\u001b[0m\u001b[0;34m,\u001b[0m \u001b[0mvalue\u001b[0m\u001b[0;34m)\u001b[0m\u001b[0;34m:\u001b[0m\u001b[0;34m\u001b[0m\u001b[0;34m\u001b[0m\u001b[0m\n",
      "\u001b[0;32m~/.local/lib/python3.6/site-packages/wikidataintegrator/wdi_core.py\u001b[0m in \u001b[0;36mset_value\u001b[0;34m(self, value)\u001b[0m\n\u001b[1;32m   2428\u001b[0m                 \u001b[0;32mraise\u001b[0m \u001b[0mValueError\u001b[0m\u001b[0;34m(\u001b[0m\u001b[0;34m'Invalid WD item ID, format must be \"Q[0-9]*\"'\u001b[0m\u001b[0;34m)\u001b[0m\u001b[0;34m\u001b[0m\u001b[0;34m\u001b[0m\u001b[0m\n\u001b[1;32m   2429\u001b[0m         \u001b[0;32melse\u001b[0m\u001b[0;34m:\u001b[0m\u001b[0;34m\u001b[0m\u001b[0;34m\u001b[0m\u001b[0m\n\u001b[0;32m-> 2430\u001b[0;31m             \u001b[0;32mraise\u001b[0m \u001b[0mValueError\u001b[0m\u001b[0;34m(\u001b[0m\u001b[0;34m'Invalid WD item ID, format must be \"Q[0-9]*\"'\u001b[0m\u001b[0;34m)\u001b[0m\u001b[0;34m\u001b[0m\u001b[0;34m\u001b[0m\u001b[0m\n\u001b[0m\u001b[1;32m   2431\u001b[0m \u001b[0;34m\u001b[0m\u001b[0m\n\u001b[1;32m   2432\u001b[0m         self.json_representation['datavalue'] = {\n",
      "\u001b[0;31mValueError\u001b[0m: Invalid WD item ID, format must be \"Q[0-9]*\""
     ]
    }
   ],
   "source": [
    "from wikidataintegrator import wdi_core\n",
    "import time\n",
    "\n",
    "for index, row in cells.iterrows():\n",
    "\n",
    "    data_for_item = []     \n",
    "    stated_in_full_reference = wdi_core.WDItemID(value=row[\"stated in\"], prop_nr=\"P248\", is_reference=True)\n",
    "    references = [[stated_in_full_reference]]\n",
    "    \n",
    "\n",
    "    label = row[\"label\"]\n",
    "    print(f\"Running code for {label} \")\n",
    "\n",
    "    if \"human\" in label:\n",
    "      description = \"cell type in Homo sapiens\"\n",
    "      taxon = \"Q15978631\"\n",
    "        \n",
    "      data_for_item.append( \n",
    "        wdi_core.WDItemID(value=taxon,\n",
    "                        prop_nr=\"P703\",\n",
    "                         references=references)\n",
    "    )  \n",
    "      \n",
    "    elif \"mouse\" in label:\n",
    "      description = \"cell type in Mus musculus\"\n",
    "      data_for_item.append( \n",
    "        wdi_core.WDItemID(value=taxon,\n",
    "                        prop_nr=\"P703\",\n",
    "                         references=references)\n",
    "    )  \n",
    "\n",
    "    elif \"zebrafish\" in label:\n",
    "      description = \"cell type in Danio rerio\"\n",
    "      taxon = \"Q169444\"\n",
    "      data_for_item.append( \n",
    "        wdi_core.WDItemID(value=taxon,\n",
    "                        prop_nr=\"P703\",\n",
    "                         references=references)\n",
    "    )  \n",
    "    else:\n",
    "      description = \"cell type\"\n",
    "\n",
    "    try:\n",
    "        if  re.findall(\"Q[0-9]*\", row[\"subclass of\"]):\n",
    "            subclass = row[\"subclass of\"]\n",
    "        else:\n",
    "            subclass = subclass_dict[row[\"subclass of\"]]            \n",
    "        \n",
    "        data_for_item.append( \n",
    "        wdi_core.WDItemID(value=subclass,\n",
    "                        prop_nr=\"P279\")\n",
    "    )  \n",
    "\n",
    "        if str(row[\"anatomical location\"]) != \"nan\":\n",
    "            if  re.findall(\"Q[0-9]*\", row[\"anatomical location\"]):\n",
    "                part_of = row[\"anatomical location\"]\n",
    "            else:\n",
    "                part_of = part_of_dict[row[\"anatomical location\"]]\n",
    "\n",
    "            data_for_item.append( \n",
    "            wdi_core.WDItemID(value=part_of,\n",
    "                            prop_nr=\"P927\",\n",
    "                             references=references)\n",
    "        )          \n",
    "\n",
    "        if str(row[\"described by source\"]) != \"nan\":\n",
    "            data_for_item.append( \n",
    "            wdi_core.WDItemID(value=row[\"described by source\"],\n",
    "                            prop_nr=\"P1343\")\n",
    "                        )\n",
    "        \n",
    "       \n",
    "    except:\n",
    "        print(\"\")\n",
    "        print(\"failed: \")\n",
    "        print(row)\n",
    "        break\n",
    "    \n",
    "    if str(row[\"aliases\"]) != \"nan\":\n",
    "        aliases = row[\"aliases\"].split(\"|\")\n",
    "    else:\n",
    "        aliases = []\n",
    "\n",
    "    if str(row[\"instance of\"]) != \"nan\":\n",
    "      instance = instance_dict[row[\"instance of\"]]\n",
    "    else: \n",
    "      instance = instance_dict[\"cell type\"]\n",
    "    print(instance)\n",
    "    data_for_item.append( \n",
    "    wdi_core.WDItemID(value=instance,\n",
    "                    prop_nr=\"P31\",\n",
    "                    references=references)\n",
    "    )\n",
    "    wd_item = wdi_core.WDItemEngine(data=data_for_item)\n",
    "    wd_item.set_label(label=label, lang=\"en\")\n",
    "    wd_item.set_aliases(aliases, lang=\"en\")\n",
    "    wd_item.set_description(description, lang=\"en\")\n",
    "    try:\n",
    "        wd_item.write(login_instance)\n",
    "        subclass_dict[label] = wd_item.wd_item_id\n",
    "    except:\n",
    "        print(\"Something went wrong\")\n",
    "    \n",
    "    time.sleep(1)\n",
    "\n",
    "        \n",
    "\n",
    "    "
   ]
  },
  {
   "cell_type": "code",
   "execution_count": 177,
   "metadata": {},
   "outputs": [
    {
     "ename": "SyntaxError",
     "evalue": "invalid syntax (<ipython-input-177-d0015768fd33>, line 3)",
     "output_type": "error",
     "traceback": [
      "\u001b[0;36m  File \u001b[0;32m\"<ipython-input-177-d0015768fd33>\"\u001b[0;36m, line \u001b[0;32m3\u001b[0m\n\u001b[0;31m    OCOL)\u001b[0m\n\u001b[0m       ^\u001b[0m\n\u001b[0;31mSyntaxError\u001b[0m\u001b[0;31m:\u001b[0m invalid syntax\n"
     ]
    }
   ],
   "source": [
    "with open('celltypes_dict.pickle', 'wb') as handle:\n",
    "    pickle.dump(subclass_dict, handle, protocol=pickle.HIGHEST_PRO\n",
    "                OCOL)\n"
   ]
  },
  {
   "cell_type": "code",
   "execution_count": null,
   "metadata": {},
   "outputs": [],
   "source": []
  }
 ],
 "metadata": {
  "kernelspec": {
   "display_name": "Python 3",
   "language": "python",
   "name": "python3"
  },
  "language_info": {
   "codemirror_mode": {
    "name": "ipython",
    "version": 3
   },
   "file_extension": ".py",
   "mimetype": "text/x-python",
   "name": "python",
   "nbconvert_exporter": "python",
   "pygments_lexer": "ipython3",
   "version": "3.6.9"
  }
 },
 "nbformat": 4,
 "nbformat_minor": 4
}
