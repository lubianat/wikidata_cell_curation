{
  "nbformat": 4,
  "nbformat_minor": 0,
  "metadata": {
    "colab": {
      "name": "reconcile_cell_classes.ipynb",
      "provenance": [],
      "collapsed_sections": [],
      "authorship_tag": "ABX9TyOb4ZT6PxhNIa+dUzJFLwVN",
      "include_colab_link": true
    },
    "kernelspec": {
      "name": "python3",
      "display_name": "Python 3"
    },
    "language_info": {
      "name": "python"
    }
  },
  "cells": [
    {
      "cell_type": "markdown",
      "metadata": {
        "id": "view-in-github",
        "colab_type": "text"
      },
      "source": [
        "<a href=\"https://colab.research.google.com/github/lubianat/wikidata_markers/blob/master/reconcile_cell_classes.ipynb\" target=\"_parent\"><img src=\"https://colab.research.google.com/assets/colab-badge.svg\" alt=\"Open In Colab\"/></a>"
      ]
    },
    {
      "cell_type": "code",
      "metadata": {
        "id": "_k41z0_-4j7t"
      },
      "source": [
        "import pandas as pd"
      ],
      "execution_count": 41,
      "outputs": []
    },
    {
      "cell_type": "code",
      "metadata": {
        "id": "il2drkwc5NXC"
      },
      "source": [
        "from google.colab import auth\n",
        "auth.authenticate_user()\n",
        "\n",
        "import gspread\n",
        "from oauth2client.client import GoogleCredentials\n",
        "\n",
        "gc = gspread.authorize(GoogleCredentials.get_application_default())"
      ],
      "execution_count": 42,
      "outputs": []
    },
    {
      "cell_type": "code",
      "metadata": {
        "colab": {
          "base_uri": "https://localhost:8080/"
        },
        "id": "etXiJTiX5Oon",
        "outputId": "ab23e107-c08e-46d1-a9d4-74600d50ba07"
      },
      "source": [
        "worksheet = gc.open('Biocuration of Cell Classes for Wikidata' ).sheet1\n",
        "\n",
        "# get_all_values gives a list of rows.\n",
        "rows = worksheet.get_all_values()\n",
        "print(rows)\n",
        "\n",
        "# Convert to a DataFrame and render.\n",
        "import pandas as pd\n",
        "df = pd.DataFrame.from_records(rows)"
      ],
      "execution_count": 43,
      "outputs": [
        {
          "output_type": "stream",
          "text": [
            "[['label', 'subclass of', 'stated in', 'described by source', 'aliases', 'anatomical location', 'develops from', 'instance of'], ['mouse vas deferens epithelial cell', 'Q15176415', 'Q98166912', '', '', 'Q735505', '', ''], ['mouse Amylin-positive epiditymal clear cells', 'Q106634206', 'Q98166912', 'Q98166912', 'Amylin-positive clear cells', 'Q1973610', '', ''], ['mouse vas deferens muscle cell', 'Q428914', 'Q98166912', '', '', 'Q735505', '', ''], ['human AS DCs', 'human dendritic cell', 'Q34555562', 'Q34555562', 'DC5 | AXL+SIGLEC6+population', 'Q7873', '', ''], ['human cDC-like  AS DCs', 'human AS DCs', 'Q34555562', 'Q34555562', 'CD123+CD11c–/lo AS DCs', 'Q7873', '', ''], ['human pDC-like AS DCs', 'human AS DCs', 'Q34555562', 'Q34555562', 'CD123loCD11c+ AS DCs', 'Q7873', '', ''], ['human cDC progenitor', 'cell', 'Q34555562', 'Q34555562', 'human circulating cDC progenitor', 'Q7873', '', ''], ['human blasticplasmacytoid DC neoplasia ', 'cell', 'Q34555562', 'Q34555562', 'BPDCN cells', 'Q7873', '', ''], ['human CD11C+ conventional dendrintic cells', 'human dendritic cell', 'Q34555562', 'Q34555562', 'cDC', 'Q7873', '', ''], ['human CD1C+ cDC', 'human CD11C+ conventional dendrintic cells', 'Q34555562', 'Q34555562', '', 'Q7873', '', ''], ['human CD1C+ A cDC', 'human CD1C+ cDC', 'Q34555562', 'Q34555562', 'DC2', 'Q7873', '', ''], ['human CD1C+ B cDC', 'human CD1C+ cDC', 'Q34555562', 'Q34555562', 'DC3', 'Q7873', '', ''], ['human CD141+ DC', 'human dendritic cell', 'Q34555562', '', '', 'Q7873', '', ''], ['human plasmacytoid dendritic cells', 'human dendritic cell', 'Q34555562', 'Q34555562', 'human pDCs', 'Q7873', '', ''], ['human CLEC9A+ cDC', 'human CD11C+ conventional dendrintic cells', 'Q34555562', '', 'DC1', 'Q7873', '', ''], ['human CD1C- CD141- cDC', 'human CD11C+ conventional dendrintic cells', 'Q34555562', '', 'DC4', 'Q7873', '', ''], ['human  CD14++CD16– monocytes', 'human CD11C+ conventional dendrintic cells', 'Q34555562', 'Q34555562', 'Mono1', 'Q7873', '', ''], ['human CD14+CD16+ monocytes', 'human CD11C+ conventional dendrintic cells', 'Q34555562', 'Q34555562', 'Mono2', 'Q7873', '', ''], ['human hepatic portal vein endothelial cell', 'hepatic portal vein endothelial cells', 'Q57804774', '', '', 'Q9368', '', ''], ['human periportal hepatocyte', 'periportal hepatocyte', 'Q57804774', 'Q57804774', '', 'Q9368', '', ''], ['human central venous hepatocytes', 'central venous hepatocytes', 'Q57804774', 'Q57804774', '', 'Q9368', '', ''], ['mouse  central venous hepatocytes', 'central venous hepatocytes', 'Q57804774', 'Q57804774', '', 'Q9368', '', ''], ['human interzonal hepatocyte', ' interzonal hepatocyte', 'Q57804774', 'Q57804774', '', 'Q9368', '', ''], ['human Hepatic stem cell', 'hepatic stem cell', 'Q57804774', '', '', 'Q9368', '', ''], ['human hepatic B cell', 'hepatic B cell', 'Q57804774', '', '', 'Q9368', '', ''], ['murine dermal migratory Langerhans-like cell', 'immune cell', 'Q106354969', 'Q106354969', 'CD207+CD326+ LClike cells |  LC-independent CD207+CD326+ LClike cells', 'Q505531', '', ''], ['mouse dermal migratory Langerhans-like cell', 'immune cell', 'Q106354969', 'Q106354969', 'CD207+CD326+ LClike cells |  LC-independent CD207+CD326+ LClike cells', 'Q505531', '', ''], ['dermal Langerhans cell', 'Langerhans cell', 'Q106354969', '', '', 'Q505531', '', ''], ['epidermal Langerhans cell', 'Langerhans cell', 'Q106354969', '', '', 'epidermis', '', ''], ['mouse cerebellar granule cell precursor', 'cerebellar granule cell precursor', 'Q64261872', 'Q64261872', '', '', '', ''], ['mouse Foxp1+/Foxp2+ Purkinje cell', 'Purkinje cell', 'Q64261872', 'Q64261872', 'Foxp1+/Foxp2+ PCs', '', '', ''], ['human human thymic epithelial cell', 'thymic epithelial cell', 'Q89808480', '', '', 'thymus', '', ''], ['double-negative T cell', 'T-cell', 'Q89808480', '', '', '', '', ''], ['double-positive T cell', 'T-cell', 'Q89808480', '', '', '', '', ''], ['human double-negative T cell', 'double-negative T cell', 'Q89808480', '', '', '', '', ''], ['human double-positive T cell', 'double-positive T cell', 'Q89808480', '', 'CD4+CD8+ DP cells', '', '', ''], ['human CD8αα+ T Cell', 'CD8αα+ T Cell', 'Q89808480', '', '', '', '', ''], ['human thymic fibroblast', 'thymic fibroblast', 'Q89808480', '', '', '', '', ''], ['human type 1 thymic fibroblast', 'human thymic fibroblast', 'Q89808480', 'Q89808480', 'Fb1', '', '', ''], ['human type 2 thymic fibroblast', 'human thymic fibroblast', 'Q89808480', 'Q89808480', 'Fb2', '', '', ''], ['human medullary thymic epithelial cell ', 'medullary thymic epithelial cell', 'Q89808480', '', 'mTEC', '', '', ''], ['human cortical thymic epithelial cell', 'cortical thymic epithelial cell', 'Q89808480', '', 'cTEC', '', '', ''], ['PSMB11-positive cTECs', 'cortical thymic epithelial cell', '', '', '', '', '', ''], ['KRT14-positive mTEC', 'medullary thymic epithelial cell', '', '', '', '', '', ''], ['AIRE-expressing mTEC', 'medullary thymic epithelial cell', '', '', '', '', '', ''], ['KRT1-expressing mTEC', 'medullary thymic epithelial cell', '', '', '', '', '', ''], ['human PSMB11-positive cTEC', 'PSMB11-positive cTECs', 'Q89808480', '', '', '', '', ''], ['human KRT14-positive mTEC', 'KRT14-positive mTEC', 'Q89808480', '', '', '', '', ''], ['human AIRE-expressing mTEC', 'AIRE-expressing mTEC', 'Q89808480', '', '', '', '', ''], ['human KRT1-expressing mTEC', 'KRT1-expressing mTEC', 'Q89808480', '', '', '', '', ''], ['mouse tuft-like mTEC', 'medullary thymic epithelial cell', 'Q89808480', '', 'mTEC(IV)s', '', '', ''], ['human mTEC(IV)s', 'medullary thymic epithelial cell', 'Q89808480', '', '', '', '', ''], ['cytotoxic CD4+ T lymphocytes', 'T cell', 'Q89808480', '', '', '', '', ''], ['human cytotoxic CD4+ T lymphocytes', 'T cell', 'Q89808480', '', '', '', '', ''], [' human differentiating Tregs', 'cell', 'Q89808480', '', '', '', '', ''], ['human GNG4+ CD8αα+ T(I) cells', 'human CD8αα+ T Cell', 'Q89808480', '', '', 'thymic medulla', '', ''], ['human ZNF683+ CD8αα+ T(II) cells', 'human CD8αα+ T Cell', 'Q89808480', '', '', '', '', ''], ['human CD8αα+ NKT-like cell', 'human CD8αα+ T Cell', 'Q89808480', '', 'EOMES+ NKT-like cells', '', '', ''], ['human fetal TH17-like cells', 'T cell', 'Q89808480', '\"we found another fetal-specific cell cluster that we named “TH17-like cells”\"', '', '', '', ''], ['', '', '', '', '', '', '', ''], ['distal convoluted tubule cell', 'cell', 'Q89808480', '', 'DCT cell', '', '', ''], ['mouse  distal convoluted tubule cell', 'distal convoluted tubule cell', 'Q89808480', '', '', '', '', ''], ['ascending loop  of  Henle cell', 'cell', 'Q89808480', '', '', '', '', ''], ['mouse ascending loop  of  Henle cell', 'ascending loop  of  Henle cell', 'Q89808480', '', '', '', '', ''], ['descending loop of Henle cells', 'cell', 'Q89808480', '', '', '', '', ''], ['mouse descending loop of Henle cells', 'descending loop of Henle cells', 'Q89808480', '', 'DLH cell', '', '', ''], ['alpha intercalated cell of the collecting duct', 'Intercalated cell of collecting duct of renal tubule', 'Q89808480', '', 'alpha intercalated cell | A-IC', '', '', ''], ['beta intercalated cell of the collecting duct', 'Intercalated cell of collecting duct of renal tubule', 'Q89808480', '', 'beta intercalated cell | B-IC', '', '', ''], ['mouse alpha intercalated cell of the collecting duct', 'alpha intercalated cell of the collecting duct', 'Q89808480', '', '', '', '', ''], ['mouse beta intercalated cell of the collecting duct', 'beta intercalated cell | B-IC', 'Q89808480', '', '', '', '', ''], ['mouse transitional cell of the collecting duct', 'cell of the collecting duct', 'Q89808480', 'Q89808480', 'double positive cells | double  IC/PC cells ', '', '', ''], ['mouse interfollicular epidermis basal cell', 'epidermal cell', 'Q37314462', '', 'IFE-derived basal cells', 'interfollicular epidermis', '', ''], ['mouse interfollicular epidermis differentiated cell', 'epidermal cell', 'Q37314462', '', '', 'interfollicular epidermis', '', ''], ['mouse interfollicular epidermis keratinized cell', 'keratinized cell of epidermis', 'Q37314462', '', '', 'interfollicular epidermis', '', ''], ['mouse hair follicle inner bulge cell', 'hair follicle cell', 'Q37314462', '', '', 'hair follicle', '', ''], ['mouse hair follicle outer bulge cell', 'hair follicle cell', 'Q37314462', '', '', 'hair follicle', '', ''], ['mouse hair follicle sebaceous gland cell', 'hair follicle cell', 'Q37314462', '', 'SG cells', 'hair follicle', '', ''], ['mouse upper hair follicle cell', 'hair follicle cell', 'Q37314462', '', '', 'hair follicle', '', ''], ['mouse SILA enteroendocrine cell', 'enteroendocrine cell', 'Q47564808', 'Q47564808', 'SILA cell | cells that express Sct, Cck, Gcg and Ghrl', '', '', ''], ['mouse tuft-1 cell', 'mouse tuft cell', 'Q47564808', 'Q47564808', '', '', '', ''], ['mouse tuft-2 cell', 'mouse tuft cell', 'Q47564808', 'Q47564808', '', '', '', ''], ['dentate gyrus radial glia-like cells', 'Q106443855', 'Q58793343', 'Q58793343', 'RGDG', '', '', ''], ['subventricular zone radial glia-like cells', 'Q106443855', 'Q58793343', 'Q58793343', 'RGSZ', '', '', ''], ['mouse dentate gyrus radial glia-like cells', 'dentate gyrus radial glia-like cells', 'Q58793343', 'Q58793343', '', '', '', ''], ['mouse subventricular zone radial glia-like cells', 'subventricular zone radial glia-like cells', 'Q58793343', 'Q58793343', '', '', '', ''], ['mouse large peritoneal macrophage', 'peritoneal macrophage', 'Q33664675', 'Q33664675', 'LPM', 'peritoneal cavity', '', ''], ['mouse small peritoneal macrophage', 'peritoneal macrophage', 'Q33664675', 'Q33664675', 'SPM', 'peritoneal cavity', '', ''], ['human decidual NK cell', 'Q106466210', 'Q59068540', '', '', '', '', ''], ['human dNK1', 'human decidual NK cell', 'Q59068540', 'Q59068540', 'dNK1', '', '', 'cell state'], ['human dNK2', 'human decidual NK cell', 'Q59068540', 'Q59068540', 'dNK2', '', '', 'cell state'], ['human dNK3', 'human decidual NK cell', 'Q59068540', 'Q59068540', 'dNK3', '', '', 'cell state'], ['effector T reg cell', 'T regulatory cell', 'Q89748559', '', 'effector T regulatory cell', '', '', ''], ['central T reg cell', 'T regulatory cell', 'Q89748559', '', 'central T regulatory cell', '', '', ''], ['human effector T regulatory cell', 'effector T reg cell', 'Q89748559', '', '', '', '', ''], ['human central T regulatory cell', 'central T reg cell', 'Q89748559', '', '', '', '', ''], ['nonlymphoid tissue-like Treg cell', 'T regulatory cell', 'Q89748559', '', '', '', '', ''], ['Treg-like cell', 'T cell', 'Q89748559', '', '', '', '', ''], ['human nonlymphoid tissue-like Treg cell\\n', 'nonlymphoid tissue-like Treg cell', 'Q89748559', '', '', '', '', ''], ['human  Treg-like cell', 'Treg-like cell', 'Q89748559', '', '', '', '', ''], ['cecal plasma cell', 'plasma cell', 'Q89748559', '', '', '', '', ''], ['human  cecal  plasma  cell', 'cecal plasma cell', 'Q89748559', '', '', '', '', ''], ['human nevus cell', 'Q12386885', 'Q37438060', '', '', '', '', ''], ['human type A nevus cell', 'human nevus cell', 'Q37438060', '', '', '', '', ''], ['human type B nevus cell', 'human nevus cell', 'Q37438060', '', '', '', '', ''], ['human type C nevus cell', 'human nevus cell', 'Q37438060', '', '', '', '', ''], ['human TREM2+CD9+ macrophages', 'Q104536148', 'Q90612750', '', 'human scar associated macrophage | human SAMΦ', 'liver', '', ''], ['human ACKR1+ endothelial cell', 'Q104536172', 'Q90612750', '', 'human SAEndo(1)', 'liver', '', ''], ['human PDGFRα+ collagen-producing mesenchymal cell', 'Q104536221', 'Q90612750', '', '', 'liver', '', ''], ['scar-associated mesenchymal cel', 'Q66568500', 'Q90612750', '', 'SAMes', 'liver', '', ''], ['human scar-associated mesenchymal cel', 'scar-associated mesenchymal cel', 'Q90612750', '', 'human SAMes', 'liver', '', ''], ['human FOXN4+ ciliated cell', 'Q101405066', 'Q91561671', '', 'FOXN4‐positive cell', 'airways', '', ''], ['human bronchial epithelial cell', 'Q90612750', 'Q91561671', '', 'HBEC', 'bronchius', '', ''], ['human transient secretory cell', 'Q104525725', 'Q91561671', '', '', '', '', ''], ['macrovascular endothelial cell', 'Q11394395', 'Q91776824', '', 'MaVECs', 'liver', '', ''], ['human macrovascular endothelial cell', 'macrovascular endothelial cell', 'Q91776824', '', '', 'liver', '', ''], ['human liver-resident MZB1+ B cell', 'B cell', 'Q91776824', '', '', 'liver', '', ''], ['human hepatic stem cell', 'Q104551517', 'Q91776824', '', '', 'liver', '', ''], ['esophageal mucus-secreting cell', 'Q106519855', 'Q92354852', '', '', 'esophagus', '', ''], ['human esophageal mucus-secreting cell', 'esophageal mucus-secreting cell', 'Q92354852', '', '', 'esophagus', '', ''], ['human retina horizontal cells', 'Q1628177', 'Q92766837', '', '', 'retina', '', ''], ['human rod photoreceptor', 'Q505544', 'Q92766837', '', '', 'retina', '', ''], ['human rod photoreceptor', 'Q147298', 'Q92766837', '', '', '', '', ''], ['human retinal astrocyte', 'Q66563447', 'Q92766837', '', '', '', '', ''], ['human amacrine cell', 'Q452595', 'Q92766837', '', '', '', '', ''], ['OFF-bipolar cell', 'Q864951', 'Q92766837', '', 'OFF bipolar cell', '', '', ''], ['ON-bipolar cell', 'Q864951', 'Q92766837', '', 'ON bipolar cell', '', '', ''], ['human OFF bipolar cell', 'OFF-bipolar cell', 'Q92766837', '', '', '', '', ''], ['human ON bipolar cell', 'ON-bipolar cell', 'Q92766837', '', '', '', '', ''], ['human rod bipolar cell ', 'Q66563426', 'Q92766837', '', '', '', '', ''], ['human cone photoreceptor', 'Q147298', 'Q92766837', '', '', '', '', ''], ['human OPN1SW-positive  S-cones', 'Q147298', '\\nQ92766837', '', 'S-cones', '', '', ''], ['human L/M cones', 'Q147298', '\\nQ92766837', '', '', '', '', ''], ['human OPN1MW-positive M-cones', 'human L/M cones', 'Q92766837', '', '', '', '', ''], ['human OPN1LW-positive L-cones', 'human L/M cones', 'Q92766837', '', '', '', '', ''], ['IgG B cell', 'Q188930', 'Q92826478', '', '', '', '', ''], ['IgM B cell', 'Q188930', 'Q92826478', '', '', '', '', ''], ['human IgG B cell', 'IgG B cell', 'Q92826478', '', '', '', '', ''], ['human IgM B cell', 'IgM B cell', 'Q92826478', '', '', '', '', ''], ['human IgG3+ B cell', 'human IgG B cell', 'Q92826478', '', '', '', '', ''], ['excitatory latRM neuron', 'neuron', 'Q106534301', '', '', 'Q106534312', '', ''], ['mouse excitatory latRM neuron', 'excitatory latRM neuron', 'Q106534301', '', '', 'Q106534312', '', ''], ['mouse cervical-spinal cord projecting excitatory latRM neuron', 'mouse excitatory latRM neuron', 'Q106534301', 'Q106534301', '', 'Q106534312', '', ''], ['mouse cervical-spinal cord projecting excitatory latRM neuron', 'mouse excitatory latRM neuron', 'Q106534301', 'Q106534301', '', 'Q106534312', '', ''], ['mouse ventral medullary reticular formation  projecting neuron', 'mouse excitatory latRM neuron', 'Q106534301', 'Q106534301', 'MdV projecting neuron', 'Q106534312', '', ''], ['mouse dorsal medullary reticular formation projecting neuron', 'mouse excitatory latRM neuron', 'Q106534301', 'Q106534301', 'MdD projecting neuron', 'Q106534312', '', ''], ['mouse contralateral latRM projecting excitatory latRM neuron', 'mouse excitatory latRM neuron', 'Q106534301', 'Q106534301', '', 'Q106534312', '', ''], ['spiny projection neurons of the nucleus accumbens ', '', 'Q106534414', '', 'SPNs of the NAc', 'Q1476178', '', ''], ['striatomesencephalic SPNs', 'spiny projection neurons of the nucleus accumbens ', 'Q106534414', '', '', 'Q1476178', '', ''], ['striatopallidal SPNs', 'spiny projection neurons of the nucleus accumbens ', 'Q106534414', '', '', 'Q1476178', '', ''], ['mouse spiny projection neurons of the nucleus accumbens ', 'spiny projection neurons of the nucleus accumbens ', 'Q106534414', '', '', 'Q1476178', '', ''], ['mouse striatomesencephalic SPNs', 'striatomesencephalic SPNs', 'Q106534414', '', '', 'Q1476178', '', ''], ['mouse striatopallidal SPNs', 'striatopallidal SPNs', 'Q106534414', '', '', 'Q1476178', '', ''], ['meningeal natural killer (NK) cells,', 'Q332181', 'Q106535191', 'Q106535191', '', 'Q268930', '', ''], ['mouse LAMP1+ TRAIL+ astrocytes', 'mouse astrocyte', 'Q106535191', 'Q106535191', '', 'Q9606', '', ''], ['spinal cord astrocyte', 'Q502961', 'Q106535191', 'Q106535191', '', 'Q9606', '', ''], ['cerebellar astrocyte', 'Q502961', 'Q106535191', '', '', 'Q130983', '', ''], ['cortical astrocyte', 'Q502961', 'Q106535191', '', '', 'Q75839', '', ''], ['parenchymal astrocyte', 'Q502961', 'Q106535191', '', 'subcortical astrocyte', 'Q106535275', '', ''], ['mouse spinal cord astrocyte', 'spinal cord astrocyte', 'Q106535191', 'Q106535191', '', 'Q9606', '', ''], ['mouse cerebellar astrocyte', 'cerebellar astrocyte', 'Q106535191', '', '', 'Q9606', '', ''], ['mouse cortical astrocyte', 'cortical astrocyte', 'Q106535191', '', '', 'Q130983', '', ''], ['mouse parenchymal astrocyte', 'parenchymal astrocyte', 'Q106535191', '', '', 'Q75839', '', ''], ['NK1.1+ CD200R- NK cell', 'NK cell', 'Q106535191', '', '', 'Q106535275', '', ''], ['type 1 innate lymphoid cell', 'Q13418826', 'Q106535191', '', '', '', '', ''], ['NK1.1+ CD200R+ type 1 innate lymphoid cell', 'type 1 innate lymphoid cell', 'Q106535191', '', '', '', '', ''], ['NK1.1+ cell', 'cell ', 'Q106535191', '', '', '', '', ''], ['mouse NK1.1+ cell', 'NK1.1+ cell', 'Q106535191', '', '', '', '', ''], ['meningeal T cell', 'T cell', 'Q106535191', '', '', '', '', ''], ['mouse meningeal natural killer (NK) cell', 'meningeal T cell', 'Q106535191', '', '', 'Q268930', '', ''], ['mouse interferon gamma producing meningeal natural killer (NK) cell', 'mouse meningeal natural killer (NK) cell', 'Q106535191', '', '', 'Q268930', '', ''], ['ventricular cardiomyocyte', 'Q1047227', 'Q95602396', '', '', 'Q2002035', '', ''], ['atrial cardiomyocyte', 'Q1047227', 'Q95602396', '', '', 'Q1074839', '', ''], ['human right atrium cardiomyocyte', 'Q105533270', 'Q95602396', '', 'RA CM', '', '', ''], ['human left atrium cardiomyocyte', 'Q105533270', 'Q95602396', '', 'LA CM', '', '', ''], ['atrial pericyte', 'Q104777704', 'Q95602396', '', '', '', '', ''], ['ventricular pericyte', 'Q104777704', 'Q95602396', '', '', '', '', ''], ['human atrial pericyte', 'Q105533263', 'Q95602396', '', '', '', '', ''], ['human ventricular pericyte', 'Q105533263', 'Q95602396', '', '', '', '', ''], ['human IgA plasmablast', 'Q106586927', 'Q106272047', '', '', '', '', ''], ['human IgG plasmablast', 'Q106596039', 'Q106272047', '', '', '', '', ''], ['nasal suprabasal cell', 'Q104807928', 'Q106272047', '', 'suprabasal N', '', '', ''], ['nasal multiciliated cell', 'Q101062671', 'Q106272047', '', '', '', '', ''], ['human nasal suprabasal cell', 'nasal suprabasal cell', 'Q106272047', '', '', '', '', ''], ['human nasal multiciliated cell', 'nasal multiciliated cell', 'Q106272047', '', '', '', '', ''], ['human MUC5B+ ductal cells', 'Q101404956', 'Q102206138', '', '', '', '', ''], ['quiescent pancreatic stellate cell ', 'Q1164962', 'Q102206138', '', '', '', '', ''], ['human quiescent pancreatic stellate cell ', 'Q1164962', 'Q102206138', '', '', '', '', ''], ['human activated pancreatic stellate cell', '\\nQ1164962', 'Q102206138', '', '', '', '', ''], ['human acinar-REG+ cell', 'Q101405107', 'Q102206138', '', '', '', '', ''], ['human secretory acinar cells ', 'Q101405107', 'Q102206138', '', 'acinar-s', '', '', ''], ['human idiling acinar cells', 'Q101405107', 'Q102206138', '', 'acinar-i', '', '', ''], ['fetal cell', 'cell ', 'Q104130336', '', '', '', '', ''], ['ileal cell', 'cell ', 'Q104130336', '', '', '', '', ''], ['pediatric terminal ileal cell', 'ileal cell', 'Q104130336', '', '', '', '', ''], ['human FOXL1 fibroblasts', 'Q101404861', 'Q104130336', '', '', '', '', '']]\n"
          ],
          "name": "stdout"
        }
      ]
    },
    {
      "cell_type": "code",
      "metadata": {
        "id": "C6NViYnY6ViN"
      },
      "source": [
        "# From https://stackoverflow.com/questions/31328861/python-pandas-replacing-header-with-top-row\n",
        "new_header = df.iloc[0] #grab the first row for the header\n",
        "df = df[1:] #take the data less the header row\n",
        "df.columns = new_header #set the header row as the df header\n"
      ],
      "execution_count": 44,
      "outputs": []
    },
    {
      "cell_type": "code",
      "metadata": {
        "id": "whZSUREF7ovU"
      },
      "source": [
        "instance_dict = {\n",
        "    \"cell type\":\"Q189118\",\n",
        "    \"cell class\":\"Q104852483\",\n",
        "    \"cell state\":\"Q104539563\"\n",
        "}"
      ],
      "execution_count": 45,
      "outputs": []
    },
    {
      "cell_type": "code",
      "metadata": {
        "colab": {
          "base_uri": "https://localhost:8080/",
          "height": 424
        },
        "id": "0wf9Lq8z5gfG",
        "outputId": "642be57b-74e4-4bcf-8794-c82cc921f202"
      },
      "source": [
        "df"
      ],
      "execution_count": 46,
      "outputs": [
        {
          "output_type": "execute_result",
          "data": {
            "text/html": [
              "<div>\n",
              "<style scoped>\n",
              "    .dataframe tbody tr th:only-of-type {\n",
              "        vertical-align: middle;\n",
              "    }\n",
              "\n",
              "    .dataframe tbody tr th {\n",
              "        vertical-align: top;\n",
              "    }\n",
              "\n",
              "    .dataframe thead th {\n",
              "        text-align: right;\n",
              "    }\n",
              "</style>\n",
              "<table border=\"1\" class=\"dataframe\">\n",
              "  <thead>\n",
              "    <tr style=\"text-align: right;\">\n",
              "      <th></th>\n",
              "      <th>label</th>\n",
              "      <th>subclass of</th>\n",
              "      <th>stated in</th>\n",
              "      <th>described by source</th>\n",
              "      <th>aliases</th>\n",
              "      <th>anatomical location</th>\n",
              "      <th>develops from</th>\n",
              "      <th>instance of</th>\n",
              "    </tr>\n",
              "  </thead>\n",
              "  <tbody>\n",
              "    <tr>\n",
              "      <th>1</th>\n",
              "      <td>mouse vas deferens epithelial cell</td>\n",
              "      <td>Q15176415</td>\n",
              "      <td>Q98166912</td>\n",
              "      <td></td>\n",
              "      <td></td>\n",
              "      <td>Q735505</td>\n",
              "      <td></td>\n",
              "      <td></td>\n",
              "    </tr>\n",
              "    <tr>\n",
              "      <th>2</th>\n",
              "      <td>mouse Amylin-positive epiditymal clear cells</td>\n",
              "      <td>Q106634206</td>\n",
              "      <td>Q98166912</td>\n",
              "      <td>Q98166912</td>\n",
              "      <td>Amylin-positive clear cells</td>\n",
              "      <td>Q1973610</td>\n",
              "      <td></td>\n",
              "      <td></td>\n",
              "    </tr>\n",
              "    <tr>\n",
              "      <th>3</th>\n",
              "      <td>mouse vas deferens muscle cell</td>\n",
              "      <td>Q428914</td>\n",
              "      <td>Q98166912</td>\n",
              "      <td></td>\n",
              "      <td></td>\n",
              "      <td>Q735505</td>\n",
              "      <td></td>\n",
              "      <td></td>\n",
              "    </tr>\n",
              "    <tr>\n",
              "      <th>4</th>\n",
              "      <td>human AS DCs</td>\n",
              "      <td>human dendritic cell</td>\n",
              "      <td>Q34555562</td>\n",
              "      <td>Q34555562</td>\n",
              "      <td>DC5 | AXL+SIGLEC6+population</td>\n",
              "      <td>Q7873</td>\n",
              "      <td></td>\n",
              "      <td></td>\n",
              "    </tr>\n",
              "    <tr>\n",
              "      <th>5</th>\n",
              "      <td>human cDC-like  AS DCs</td>\n",
              "      <td>human AS DCs</td>\n",
              "      <td>Q34555562</td>\n",
              "      <td>Q34555562</td>\n",
              "      <td>CD123+CD11c–/lo AS DCs</td>\n",
              "      <td>Q7873</td>\n",
              "      <td></td>\n",
              "      <td></td>\n",
              "    </tr>\n",
              "    <tr>\n",
              "      <th>...</th>\n",
              "      <td>...</td>\n",
              "      <td>...</td>\n",
              "      <td>...</td>\n",
              "      <td>...</td>\n",
              "      <td>...</td>\n",
              "      <td>...</td>\n",
              "      <td>...</td>\n",
              "      <td>...</td>\n",
              "    </tr>\n",
              "    <tr>\n",
              "      <th>191</th>\n",
              "      <td>human idiling acinar cells</td>\n",
              "      <td>Q101405107</td>\n",
              "      <td>Q102206138</td>\n",
              "      <td></td>\n",
              "      <td>acinar-i</td>\n",
              "      <td></td>\n",
              "      <td></td>\n",
              "      <td></td>\n",
              "    </tr>\n",
              "    <tr>\n",
              "      <th>192</th>\n",
              "      <td>fetal cell</td>\n",
              "      <td>cell</td>\n",
              "      <td>Q104130336</td>\n",
              "      <td></td>\n",
              "      <td></td>\n",
              "      <td></td>\n",
              "      <td></td>\n",
              "      <td></td>\n",
              "    </tr>\n",
              "    <tr>\n",
              "      <th>193</th>\n",
              "      <td>ileal cell</td>\n",
              "      <td>cell</td>\n",
              "      <td>Q104130336</td>\n",
              "      <td></td>\n",
              "      <td></td>\n",
              "      <td></td>\n",
              "      <td></td>\n",
              "      <td></td>\n",
              "    </tr>\n",
              "    <tr>\n",
              "      <th>194</th>\n",
              "      <td>pediatric terminal ileal cell</td>\n",
              "      <td>ileal cell</td>\n",
              "      <td>Q104130336</td>\n",
              "      <td></td>\n",
              "      <td></td>\n",
              "      <td></td>\n",
              "      <td></td>\n",
              "      <td></td>\n",
              "    </tr>\n",
              "    <tr>\n",
              "      <th>195</th>\n",
              "      <td>human FOXL1 fibroblasts</td>\n",
              "      <td>Q101404861</td>\n",
              "      <td>Q104130336</td>\n",
              "      <td></td>\n",
              "      <td></td>\n",
              "      <td></td>\n",
              "      <td></td>\n",
              "      <td></td>\n",
              "    </tr>\n",
              "  </tbody>\n",
              "</table>\n",
              "<p>195 rows × 8 columns</p>\n",
              "</div>"
            ],
            "text/plain": [
              "0                                           label  ... instance of\n",
              "1              mouse vas deferens epithelial cell  ...            \n",
              "2    mouse Amylin-positive epiditymal clear cells  ...            \n",
              "3                  mouse vas deferens muscle cell  ...            \n",
              "4                                    human AS DCs  ...            \n",
              "5                          human cDC-like  AS DCs  ...            \n",
              "..                                            ...  ...         ...\n",
              "191                    human idiling acinar cells  ...            \n",
              "192                                    fetal cell  ...            \n",
              "193                                    ileal cell  ...            \n",
              "194                 pediatric terminal ileal cell  ...            \n",
              "195                       human FOXL1 fibroblasts  ...            \n",
              "\n",
              "[195 rows x 8 columns]"
            ]
          },
          "metadata": {
            "tags": []
          },
          "execution_count": 46
        }
      ]
    },
    {
      "cell_type": "code",
      "metadata": {
        "colab": {
          "base_uri": "https://localhost:8080/"
        },
        "id": "astbMW-06BVG",
        "outputId": "a683ed43-f6ee-4c99-f7a9-86ff649cf405"
      },
      "source": [
        "import re\n",
        "\n",
        "number_of_create_statements = 0\n",
        "for index, row in df.iterrows():\n",
        "\n",
        "    print(\"CREATE\")\n",
        "\n",
        "    label = row[\"label\"]\n",
        "    print(f'LAST|Len|\"{label}\"')\n",
        "\n",
        "    stated_in = row[\"stated in\"]\n",
        "    if \"human\" in label:\n",
        "      description = \"Cell type in Homo sapiens\"\n",
        "      taxon = \"Q15978631\"\n",
        "      print(f\"LAST|P703|{taxon}|S248|{stated_in}\")\n",
        "\n",
        "    elif \"mouse\" in label:\n",
        "      description = \"Cell type in Mus musculus\"\n",
        "      taxon = \"Q83310\"\n",
        "      print(f\"LAST|P703|{taxon}|S248|{stated_in}\")\n",
        "\n",
        "    elif \"zebrafish\" in label:\n",
        "      description = \"Cell type in Danio rerio\"\n",
        "      taxon = \"Q169444\"\n",
        "      print(f\"LAST|P703|{taxon}|S248|{stated_in}\")\n",
        "\n",
        "    else:\n",
        "      description = \"Cell type\"\n",
        "    \n",
        "    print(f'LAST|Den|\"{description}\"')\n",
        "    \n",
        "    if row[\"aliases\"] != \"\":\n",
        "        aliases = row[\"aliases\"] \n",
        "        print(f'LAST|Aen|\"{aliases}\"')\n",
        "\n",
        "\n",
        "    described_by_source = row[\"described by source\"]\n",
        "\n",
        "    if row[\"instance of\"] != \"\":\n",
        "      instance = instance_dict[row[\"instance of\"]]\n",
        "    else: \n",
        "      instance = instance_dict[\"cell type\"]\n",
        "    print(f\"LAST|P31|{instance}|S248|{stated_in}\")\n",
        "\n",
        "    try:\n",
        "        if  re.findall(\"Q[0-9]*\", row[\"subclass of\"]):\n",
        "            subclass = row[\"subclass of\"]\n",
        "        else:\n",
        "            subclass = subclass_dict[row[\"subclass of\"]]            \n",
        "        print(f\"LAST|P279|{subclass}|S248|{stated_in}\")\n",
        "\n",
        "        try:\n",
        "            part_of = part_of_dict[row[\"anatomical location\"]]\n",
        "            print(f\"LAST|P927|{part_of}|S248|{stated_in}\")\n",
        "        except:\n",
        "            pass\n",
        "\n",
        "\n",
        "\n",
        "\n",
        "\n",
        "        if row[\"described by source\"] != \"\":\n",
        "            print(f'LAST|P1343|{described_by_source}')\n",
        "        print(\"\")\n",
        "\n",
        "        number_of_create_statements += 1\n",
        "        \n",
        "    except:\n",
        "        print(\"\")\n",
        "        print(\"failed: \")\n",
        "        print(row)\n",
        "        break\n",
        "    print(\" \")"
      ],
      "execution_count": 48,
      "outputs": [
        {
          "output_type": "stream",
          "text": [
            "CREATE\n",
            "LAST|Len|\"mouse vas deferens epithelial cell\"\n",
            "LAST|P703|Q83310|S248|Q98166912\n",
            "LAST|Den|\"Cell type in Mus musculus\"\n",
            "LAST|P31|Q189118|S248|Q98166912\n",
            "LAST|P279|Q15176415|S248|Q98166912\n",
            "\n",
            " \n",
            "CREATE\n",
            "LAST|Len|\"mouse Amylin-positive epiditymal clear cells\"\n",
            "LAST|P703|Q83310|S248|Q98166912\n",
            "LAST|Den|\"Cell type in Mus musculus\"\n",
            "LAST|Aen|\"Amylin-positive clear cells\"\n",
            "LAST|P31|Q189118|S248|Q98166912\n",
            "LAST|P279|Q106634206|S248|Q98166912\n",
            "LAST|P1343|Q98166912\n",
            "\n",
            " \n",
            "CREATE\n",
            "LAST|Len|\"mouse vas deferens muscle cell\"\n",
            "LAST|P703|Q83310|S248|Q98166912\n",
            "LAST|Den|\"Cell type in Mus musculus\"\n",
            "LAST|P31|Q189118|S248|Q98166912\n",
            "LAST|P279|Q428914|S248|Q98166912\n",
            "\n",
            " \n",
            "CREATE\n",
            "LAST|Len|\"human AS DCs\"\n",
            "LAST|P703|Q15978631|S248|Q34555562\n",
            "LAST|Den|\"Cell type in Homo sapiens\"\n",
            "LAST|Aen|\"DC5 | AXL+SIGLEC6+population\"\n",
            "LAST|P31|Q189118|S248|Q34555562\n",
            "\n",
            "failed: \n",
            "0\n",
            "label                                  human AS DCs\n",
            "subclass of                    human dendritic cell\n",
            "stated in                                 Q34555562\n",
            "described by source                       Q34555562\n",
            "aliases                DC5 | AXL+SIGLEC6+population\n",
            "anatomical location                           Q7873\n",
            "develops from                                      \n",
            "instance of                                        \n",
            "Name: 4, dtype: object\n"
          ],
          "name": "stdout"
        }
      ]
    },
    {
      "cell_type": "code",
      "metadata": {
        "id": "cxc0jzBa7nr5",
        "colab": {
          "base_uri": "https://localhost:8080/"
        },
        "outputId": "be90a025-9558-47e8-e9fe-ca022978e911"
      },
      "source": [
        "for i in range(number_of_create_statements):\n",
        "  print(i)\n",
        "  worksheet.delete_row(2)\n"
      ],
      "execution_count": 49,
      "outputs": [
        {
          "output_type": "stream",
          "text": [
            "0\n",
            "1\n",
            "2\n"
          ],
          "name": "stdout"
        }
      ]
    },
    {
      "cell_type": "code",
      "metadata": {
        "id": "8rKEsbH46F0t"
      },
      "source": [
        "number_of_create_statements=1"
      ],
      "execution_count": null,
      "outputs": []
    },
    {
      "cell_type": "code",
      "metadata": {
        "colab": {
          "base_uri": "https://localhost:8080/"
        },
        "id": "v3DlrcsKeADX",
        "outputId": "bae3406b-4204-4763-af70-8058495d6636"
      },
      "source": [
        ""
      ],
      "execution_count": 30,
      "outputs": [
        {
          "output_type": "execute_result",
          "data": {
            "text/plain": [
              "{'replies': [{}],\n",
              " 'spreadsheetId': '1SPgKpMEwHJSD-7M9I2hyVLJo7dlNk8maiL4SQhBGtXs'}"
            ]
          },
          "metadata": {
            "tags": []
          },
          "execution_count": 30
        }
      ]
    }
  ]
}