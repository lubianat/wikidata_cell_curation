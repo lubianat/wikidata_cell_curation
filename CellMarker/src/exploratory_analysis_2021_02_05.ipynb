{
 "cells": [
  {
   "cell_type": "code",
   "execution_count": 1,
   "metadata": {},
   "outputs": [],
   "source": [
    "import pandas as pd\n",
    "human_markers = pd.read_csv(\"data/human_markers_2021_02_05.tsv\", sep = \"\\t\")\n",
    "mouse_markers = pd.read_csv(\"data/mouse_markers_2021_02_05.tsv\", sep = \"\\t\")"
   ]
  },
  {
   "cell_type": "code",
   "execution_count": 2,
   "metadata": {},
   "outputs": [
    {
     "data": {
      "text/html": [
       "<div>\n",
       "<style scoped>\n",
       "    .dataframe tbody tr th:only-of-type {\n",
       "        vertical-align: middle;\n",
       "    }\n",
       "\n",
       "    .dataframe tbody tr th {\n",
       "        vertical-align: top;\n",
       "    }\n",
       "\n",
       "    .dataframe thead th {\n",
       "        text-align: right;\n",
       "    }\n",
       "</style>\n",
       "<table border=\"1\" class=\"dataframe\">\n",
       "  <thead>\n",
       "    <tr style=\"text-align: right;\">\n",
       "      <th></th>\n",
       "      <th>speciesType</th>\n",
       "      <th>tissueType</th>\n",
       "      <th>UberonOntologyID</th>\n",
       "      <th>cancerType</th>\n",
       "      <th>cellType</th>\n",
       "      <th>cellName</th>\n",
       "      <th>CellOntologyID</th>\n",
       "      <th>cellMarker</th>\n",
       "      <th>geneSymbol</th>\n",
       "      <th>geneID</th>\n",
       "      <th>proteinName</th>\n",
       "      <th>proteinID</th>\n",
       "      <th>markerResource</th>\n",
       "      <th>PMID</th>\n",
       "      <th>Company</th>\n",
       "    </tr>\n",
       "  </thead>\n",
       "  <tbody>\n",
       "    <tr>\n",
       "      <th>count</th>\n",
       "      <td>2868</td>\n",
       "      <td>2868</td>\n",
       "      <td>2259</td>\n",
       "      <td>2868</td>\n",
       "      <td>2868</td>\n",
       "      <td>2868</td>\n",
       "      <td>2149</td>\n",
       "      <td>2868</td>\n",
       "      <td>2825</td>\n",
       "      <td>2825</td>\n",
       "      <td>2823</td>\n",
       "      <td>2823</td>\n",
       "      <td>2868</td>\n",
       "      <td>2868</td>\n",
       "      <td>248</td>\n",
       "    </tr>\n",
       "    <tr>\n",
       "      <th>unique</th>\n",
       "      <td>1</td>\n",
       "      <td>159</td>\n",
       "      <td>151</td>\n",
       "      <td>131</td>\n",
       "      <td>2</td>\n",
       "      <td>467</td>\n",
       "      <td>230</td>\n",
       "      <td>1682</td>\n",
       "      <td>1593</td>\n",
       "      <td>1596</td>\n",
       "      <td>1595</td>\n",
       "      <td>1595</td>\n",
       "      <td>4</td>\n",
       "      <td>1764</td>\n",
       "      <td>8</td>\n",
       "    </tr>\n",
       "    <tr>\n",
       "      <th>top</th>\n",
       "      <td>Human</td>\n",
       "      <td>Undefined</td>\n",
       "      <td>UBERON_0005408</td>\n",
       "      <td>Normal</td>\n",
       "      <td>Normal cell</td>\n",
       "      <td>Cancer stem cell</td>\n",
       "      <td>CL_0000034</td>\n",
       "      <td>CD133</td>\n",
       "      <td>PROM1</td>\n",
       "      <td>8842</td>\n",
       "      <td>PROM1</td>\n",
       "      <td>O43490</td>\n",
       "      <td>Experiment</td>\n",
       "      <td>Company</td>\n",
       "      <td>biolegend</td>\n",
       "    </tr>\n",
       "    <tr>\n",
       "      <th>freq</th>\n",
       "      <td>2868</td>\n",
       "      <td>560</td>\n",
       "      <td>198</td>\n",
       "      <td>2117</td>\n",
       "      <td>2117</td>\n",
       "      <td>550</td>\n",
       "      <td>237</td>\n",
       "      <td>104</td>\n",
       "      <td>109</td>\n",
       "      <td>109</td>\n",
       "      <td>109</td>\n",
       "      <td>109</td>\n",
       "      <td>2258</td>\n",
       "      <td>248</td>\n",
       "      <td>51</td>\n",
       "    </tr>\n",
       "  </tbody>\n",
       "</table>\n",
       "</div>"
      ],
      "text/plain": [
       "       speciesType tissueType UberonOntologyID cancerType     cellType  \\\n",
       "count         2868       2868             2259       2868         2868   \n",
       "unique           1        159              151        131            2   \n",
       "top          Human  Undefined   UBERON_0005408     Normal  Normal cell   \n",
       "freq          2868        560              198       2117         2117   \n",
       "\n",
       "                cellName CellOntologyID cellMarker geneSymbol geneID  \\\n",
       "count               2868           2149       2868       2825   2825   \n",
       "unique               467            230       1682       1593   1596   \n",
       "top     Cancer stem cell     CL_0000034      CD133      PROM1   8842   \n",
       "freq                 550            237        104        109    109   \n",
       "\n",
       "       proteinName proteinID markerResource     PMID    Company  \n",
       "count         2823      2823           2868     2868        248  \n",
       "unique        1595      1595              4     1764          8  \n",
       "top          PROM1    O43490     Experiment  Company  biolegend  \n",
       "freq           109       109           2258      248         51  "
      ]
     },
     "execution_count": 2,
     "metadata": {},
     "output_type": "execute_result"
    }
   ],
   "source": [
    "human_markers.describe()"
   ]
  },
  {
   "cell_type": "code",
   "execution_count": 3,
   "metadata": {},
   "outputs": [
    {
     "data": {
      "text/html": [
       "<div>\n",
       "<style scoped>\n",
       "    .dataframe tbody tr th:only-of-type {\n",
       "        vertical-align: middle;\n",
       "    }\n",
       "\n",
       "    .dataframe tbody tr th {\n",
       "        vertical-align: top;\n",
       "    }\n",
       "\n",
       "    .dataframe thead th {\n",
       "        text-align: right;\n",
       "    }\n",
       "</style>\n",
       "<table border=\"1\" class=\"dataframe\">\n",
       "  <thead>\n",
       "    <tr style=\"text-align: right;\">\n",
       "      <th></th>\n",
       "      <th>speciesType</th>\n",
       "      <th>tissueType</th>\n",
       "      <th>UberonOntologyID</th>\n",
       "      <th>cancerType</th>\n",
       "      <th>cellType</th>\n",
       "      <th>cellName</th>\n",
       "      <th>CellOntologyID</th>\n",
       "      <th>cellMarker</th>\n",
       "      <th>geneSymbol</th>\n",
       "      <th>geneID</th>\n",
       "      <th>proteinName</th>\n",
       "      <th>proteinID</th>\n",
       "      <th>markerResource</th>\n",
       "      <th>PMID</th>\n",
       "      <th>Company</th>\n",
       "    </tr>\n",
       "  </thead>\n",
       "  <tbody>\n",
       "    <tr>\n",
       "      <th>count</th>\n",
       "      <td>1255</td>\n",
       "      <td>1255</td>\n",
       "      <td>1118</td>\n",
       "      <td>1255</td>\n",
       "      <td>1255</td>\n",
       "      <td>1255</td>\n",
       "      <td>1106</td>\n",
       "      <td>1255</td>\n",
       "      <td>1248</td>\n",
       "      <td>1248</td>\n",
       "      <td>1244</td>\n",
       "      <td>1244</td>\n",
       "      <td>1255</td>\n",
       "      <td>1255</td>\n",
       "      <td>107</td>\n",
       "    </tr>\n",
       "    <tr>\n",
       "      <th>unique</th>\n",
       "      <td>1</td>\n",
       "      <td>82</td>\n",
       "      <td>79</td>\n",
       "      <td>30</td>\n",
       "      <td>2</td>\n",
       "      <td>389</td>\n",
       "      <td>197</td>\n",
       "      <td>936</td>\n",
       "      <td>896</td>\n",
       "      <td>895</td>\n",
       "      <td>891</td>\n",
       "      <td>892</td>\n",
       "      <td>4</td>\n",
       "      <td>674</td>\n",
       "      <td>6</td>\n",
       "    </tr>\n",
       "    <tr>\n",
       "      <th>top</th>\n",
       "      <td>Mouse</td>\n",
       "      <td>Brain</td>\n",
       "      <td>UBERON_0000955</td>\n",
       "      <td>Normal</td>\n",
       "      <td>Normal cell</td>\n",
       "      <td>Macrophage</td>\n",
       "      <td>CL_0000034</td>\n",
       "      <td>F4/80</td>\n",
       "      <td>Adgre1</td>\n",
       "      <td>13733</td>\n",
       "      <td>AGRE1</td>\n",
       "      <td>Q61549</td>\n",
       "      <td>Experiment</td>\n",
       "      <td>Company</td>\n",
       "      <td>ebioscience</td>\n",
       "    </tr>\n",
       "    <tr>\n",
       "      <th>freq</th>\n",
       "      <td>1255</td>\n",
       "      <td>138</td>\n",
       "      <td>138</td>\n",
       "      <td>1198</td>\n",
       "      <td>1198</td>\n",
       "      <td>66</td>\n",
       "      <td>71</td>\n",
       "      <td>22</td>\n",
       "      <td>22</td>\n",
       "      <td>22</td>\n",
       "      <td>22</td>\n",
       "      <td>22</td>\n",
       "      <td>806</td>\n",
       "      <td>107</td>\n",
       "      <td>38</td>\n",
       "    </tr>\n",
       "  </tbody>\n",
       "</table>\n",
       "</div>"
      ],
      "text/plain": [
       "       speciesType tissueType UberonOntologyID cancerType     cellType  \\\n",
       "count         1255       1255             1118       1255         1255   \n",
       "unique           1         82               79         30            2   \n",
       "top          Mouse      Brain   UBERON_0000955     Normal  Normal cell   \n",
       "freq          1255        138              138       1198         1198   \n",
       "\n",
       "          cellName CellOntologyID cellMarker geneSymbol geneID proteinName  \\\n",
       "count         1255           1106       1255       1248   1248        1244   \n",
       "unique         389            197        936        896    895         891   \n",
       "top     Macrophage     CL_0000034      F4/80     Adgre1  13733       AGRE1   \n",
       "freq            66             71         22         22     22          22   \n",
       "\n",
       "       proteinID markerResource     PMID      Company  \n",
       "count       1244           1255     1255          107  \n",
       "unique       892              4      674            6  \n",
       "top       Q61549     Experiment  Company  ebioscience  \n",
       "freq          22            806      107           38  "
      ]
     },
     "execution_count": 3,
     "metadata": {},
     "output_type": "execute_result"
    }
   ],
   "source": [
    "mouse_markers.describe()"
   ]
  },
  {
   "cell_type": "code",
   "execution_count": 4,
   "metadata": {},
   "outputs": [],
   "source": [
    "cell_classes = []\n",
    "for i, row in human_markers.iterrows():\n",
    "    cell_class = row[\"cellName\"] +  \" (\" + row[\"tissueType\"] + \")\"\n",
    "    cell_classes.append(cell_class)\n",
    "    \n",
    "for i, row in mouse_markers.iterrows():\n",
    "    cell_class = row[\"cellName\"] +  \" (\" + row[\"tissueType\"] + \")\"\n",
    "    cell_classes.append(cell_class)    \n"
   ]
  },
  {
   "cell_type": "code",
   "execution_count": 5,
   "metadata": {},
   "outputs": [],
   "source": [
    "a = list(set(cell_classes))"
   ]
  },
  {
   "cell_type": "code",
   "execution_count": 6,
   "metadata": {},
   "outputs": [
    {
     "data": {
      "text/plain": [
       "1542"
      ]
     },
     "execution_count": 6,
     "metadata": {},
     "output_type": "execute_result"
    }
   ],
   "source": [
    "len(a)"
   ]
  },
  {
   "cell_type": "markdown",
   "metadata": {},
   "source": [
    "Game plan: \n",
    "\n",
    "Select only normal (non-cancer) cells\n",
    "\n",
    "Reconcile them manually, cell type by cell type, to \"general\" cell types.\n",
    "\n",
    "\n",
    "Merge with reference table of instances of cell types that are not in human or mouse. \n",
    "\n",
    "Locate when possible, create when not. \n",
    "\n",
    "Select those names that are in the \"human\" table.\n",
    "\n",
    "Find subclasses that are found in taxon \"Homo sapiens\"\n",
    "\n"
   ]
  },
  {
   "cell_type": "code",
   "execution_count": 7,
   "metadata": {},
   "outputs": [],
   "source": [
    "human_markers = human_markers[human_markers[\"cellType\"]== \"Normal cell\"]\n",
    "mouse_markers = mouse_markers[mouse_markers[\"cellType\"]== \"Normal cell\"]"
   ]
  },
  {
   "cell_type": "code",
   "execution_count": 8,
   "metadata": {},
   "outputs": [],
   "source": [
    "reference_cell_types_human = human_markers[[\"tissueType\", \"UberonOntologyID\", \"cellName\"]]\n",
    "reference_cell_types_mouse = mouse_markers[[\"tissueType\", \"UberonOntologyID\", \"cellName\"]]\n",
    "\n",
    "reference_cell_types = reference_cell_types_human.append(reference_cell_types_mouse)"
   ]
  },
  {
   "cell_type": "code",
   "execution_count": 9,
   "metadata": {},
   "outputs": [],
   "source": [
    "reference_cell_types = reference_cell_types.drop_duplicates()"
   ]
  },
  {
   "cell_type": "code",
   "execution_count": 10,
   "metadata": {},
   "outputs": [],
   "source": [
    "from wikidata2df import wikidata2df\n",
    "\n",
    "query = \"\"\"\n",
    "SELECT ?item ?itemLabel \n",
    "WHERE \n",
    "{\n",
    "  ?item wdt:P31 wd:Q189118.\n",
    "  MINUS {?item wdt:P703 wd:Q15978631;\n",
    "               wdt:P703 wd:Q83310.}\n",
    "  SERVICE wikibase:label { bd:serviceParam wikibase:language \"[AUTO_LANGUAGE],en\". }\n",
    "}\n",
    "\"\"\"\n",
    "\n",
    "cell_types_wikidata = wikidata2df(query)"
   ]
  },
  {
   "cell_type": "code",
   "execution_count": 11,
   "metadata": {},
   "outputs": [],
   "source": [
    " reference_match = reference_cell_types.merge(cell_types_wikidata, right_on=\"itemLabel\", left_on=\"cellName\", how=\"outer\")\n",
    "    \n",
    "# Remove the unmatched Wikidata cell types\n",
    "reference_match =   reference_match.dropna(subset=[\"cellName\"])"
   ]
  },
  {
   "cell_type": "code",
   "execution_count": 12,
   "metadata": {},
   "outputs": [
    {
     "data": {
      "text/plain": [
       "1460"
      ]
     },
     "execution_count": 12,
     "metadata": {},
     "output_type": "execute_result"
    }
   ],
   "source": [
    "len(reference_match)"
   ]
  },
  {
   "cell_type": "markdown",
   "metadata": {},
   "source": [
    "Now let us remove the cell types that come from single articles. \n",
    "\n",
    "(Those that have \"et al\" in the names)"
   ]
  },
  {
   "cell_type": "code",
   "execution_count": 13,
   "metadata": {},
   "outputs": [],
   "source": [
    "reference_match = reference_match \\\n",
    "                [~reference_match[\"cellName\"].\n",
    "                str.contains(\"et al\",\n",
    "                             na=False)]"
   ]
  },
  {
   "cell_type": "code",
   "execution_count": 14,
   "metadata": {},
   "outputs": [
    {
     "data": {
      "text/plain": [
       "1392"
      ]
     },
     "execution_count": 14,
     "metadata": {},
     "output_type": "execute_result"
    }
   ],
   "source": [
    "len(reference_match.dropna(subset=[\"cellName\"]))"
   ]
  },
  {
   "cell_type": "code",
   "execution_count": 15,
   "metadata": {},
   "outputs": [],
   "source": [
    "reference_match.to_csv(\"data/reference_cell_types_devel.csv\", index=False)"
   ]
  },
  {
   "cell_type": "markdown",
   "metadata": {},
   "source": [
    "The table was uploaded on Google Sheets and  will be manually updated there:\n",
    "\n",
    "https://docs.google.com/spreadsheets/d/1ysx4SiJYn72XRsDGLZAEXA1Ot9RjL36ghOdlze-m68U/edit#gid=1617575621\n",
    "\n",
    "The ones that cannot be unambiguously matched to Wikidata will __not__ be manually created. \n",
    "\n",
    "Superclasses will be added to a new column (\"superclass\"). "
   ]
  },
  {
   "cell_type": "code",
   "execution_count": null,
   "metadata": {},
   "outputs": [],
   "source": []
  }
 ],
 "metadata": {
  "kernelspec": {
   "display_name": "Python 3",
   "language": "python",
   "name": "python3"
  },
  "language_info": {
   "codemirror_mode": {
    "name": "ipython",
    "version": 3
   },
   "file_extension": ".py",
   "mimetype": "text/x-python",
   "name": "python",
   "nbconvert_exporter": "python",
   "pygments_lexer": "ipython3",
   "version": "3.6.9"
  }
 },
 "nbformat": 4,
 "nbformat_minor": 4
}
